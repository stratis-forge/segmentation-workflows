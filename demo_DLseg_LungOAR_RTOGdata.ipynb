{
 "nbformat": 4,
  "nbformat_minor": 0,
  "metadata": {
    "colab": {
      "provenance": []
    },
    "kernelspec": {
      "name": "python3",
      "display_name": "Python 3"
    },
    "language_info": {
      "name": "python"
    },
    "accelerator": "GPU",
    "gpuClass": "standard"
  },
 "cells": [
 {
       "cell_type": "markdown",
       "source": [
         "<a href=\"https://colab.research.google.com/github/stratis-forge/segmentation-workflows/blob/main/demo_DLseg_LungOAR_RTOGdata.ipynb\" target=\"_parent\"><img src=\"https://colab.research.google.com/assets/colab-badge.svg\" alt=\"Open In Colab\"/></a>"
       ],
       "metadata": {
         "id": "18HNIZbJtzV0"
       }
    },
  {
   "cell_type": "markdown",
   "id": "42c3fbce-e05f-4348-9891-2e1844590a8a",
   "metadata": {},
   "source": [
    "## Pull sample CERR archives from PIXNAT"
   ]
  },
  {
   "cell_type": "code",
   "execution_count": 1,
   "id": "6ea2e55a-e9a8-4afb-885c-c353c907f03f",
   "metadata": {},
   "outputs": []
    }
   ],
   "source": [
    "# Enable Octave magic\n",
    "%load_ext oct2py.ipython"
   ]
  },
  {
   "cell_type": "code",
   "execution_count": 2,
   "id": "14ef11ce-a735-41ad-99e8-43a0cff34d0c",
   "metadata": {},
   "outputs": [],
   "source": [
    "%%capture \n",
    "!pip install ipywidgets"
   ]
  },
  {
   "cell_type": "code",
   "execution_count": 3,
   "id": "bb0c09e0-a8c7-4239-aebe-88af21753c2c",
   "metadata": {},
   "outputs": [],
   "source": [
    "import sys\n",
    "sys.path.append('/cluster/home/iyera/.local/lib/python3.10/site-packages')\n",
    "import ipywidgets"
   ]
  },
  {
   "cell_type": "code",
   "execution_count": 4,
   "id": "586ae7ec-e68d-44cd-8df8-138570298ec0",
   "metadata": {},
   "outputs": [],
   "source": [
    "#Import required Python libraries\n",
    "import os, time, oct2py, octave_kernel, requests, shutil, pydicom\n",
    "from getpass import getpass\n",
    "from pyxnat import Interface"
   ]
  },
  {
   "cell_type": "code",
   "execution_count": 5,
   "id": "943de565-e4ae-4b00-b89a-7a265f973ba6",
   "metadata": {},
   "outputs": [
    {
     "name": "stdin",
     "output_type": "stream",
     "text": [
      " ········\n"
     ]
    }
   ],
   "source": [
    "xusr = 'uname' #Replpace with username\n",
    "xpwd = getpass()"
   ]
  },
  {
   "cell_type": "code",
   "execution_count": 6,
   "id": "ca0f40a8-b9ba-4cc3-a1b8-77cc5db678eb",
   "metadata": {},
   "outputs": [],
   "source": [
    "xhost = 'http://plvimphxnat1'\n",
    "proj = '22547_STRATIS_Demo_1'\n",
    "exp = 'SPI_XNAT_E00358'"
   ]
  },
  {
   "cell_type": "code",
   "execution_count": 7,
   "id": "455b5497-151e-4a4b-aab8-73df1a1b268b",
   "metadata": {},
   "outputs": [],
   "source": [
    "xnat = Interface(xhost,xusr,xpwd)\n",
    "xproj = xnat.select.project(proj)\n",
    "xsubjlist = xproj.subjects('*')"
   ]
  },
  {
   "cell_type": "code",
   "execution_count": 8,
   "id": "a51e893f-34ac-40dd-b322-518c99a93564",
   "metadata": {},
   "outputs": [],
   "source": [
    "session_list = []\n",
    "sample_data_dir = '/cluster/home/stratis/sample_data/RTOG'\n",
    "\n",
    "for xsubj in xsubjlist:\n",
    "    subj = xsubj.attrs.get('label')\n",
    "    xexplist = xsubj.experiments('*')\n",
    "    for xexp in xexplist:\n",
    "        sessionlabel = xexp.attrs.get('label')\n",
    "        filename = subj + '_CERRfile.mat'\n",
    "        xexp = xnat.select.project(proj).experiment(exp)\n",
    "        xres = xexp.resource('CERR')\n",
    "        res_files = xres.get(sample_data_dir,extract=True)\n",
    "        files = os.listdir(os.path.join(sample_data_dir,'CERR'))\n",
    "        shutil.move(os.path.join(sample_data_dir,'CERR',files[0]),os.path.join(sample_data_dir,filename))\n",
    "        \n",
    "#os.rmdir(os.path.join(sample_data_dir,'CERR'))"
   ]
  },
  {
   "cell_type": "markdown",
   "id": "a54e8208-adf9-497d-8223-17d737387820",
   "metadata": {},
   "source": [
    "## Add CERR to Octave path"
   ]
  },
  {
   "cell_type": "code",
   "execution_count": 9,
   "id": "41561da2-b858-47e8-8f2e-f07064943090",
   "metadata": {},
   "outputs": [],
   "source": [
    "%octave_push sample_data_dir"
   ]
  },
  {
   "cell_type": "code",
   "execution_count": 10,
   "id": "f7f03a78-c010-4b26-8db5-98735cc8fcab",
   "metadata": {},
   "outputs": [],
   "source": [
    "%%capture\n",
    "%%octave\n",
    "# Load the required Octave packages\n",
    "pkg load statistics\n",
    "pkg load image\n",
    "pkg load io\n",
    "\n",
    "# Add CERR to path\n",
    "curr_dir = pwd;\n",
    "cerr_path = '/cluster/home/stratis/CERR';\n",
    "cd(cerr_path);\n",
    "addToPath2(cerr_path)\n",
    "cd(curr_dir)"
   ]
  },
  {
   "cell_type": "markdown",
   "id": "bc89fd4f-cf5e-43a0-8cae-4027402f9fc1",
   "metadata": {},
   "source": [
    "## Run pretrained lung OAR segmentation model on sample data"
   ]
  },
  {
   "cell_type": "code",
   "execution_count": 11,
   "id": "63dd00f6-caef-49a8-984e-59c4431ba05b",
   "metadata": {},
   "outputs": [],
   "source": [
    "%%capture \n",
    "%%octave\n",
    "# Location of pretrained LungOAR segmentation model\n",
    "lung_model_dir = '/cluster/home/clinSegData/container_builds/dev/CT_LungOAR_incrMRRN/conda_env'\n",
    "\n",
    "# Output dir for RTstructs\n",
    "output_dicom_path = '/cluster/home/stratis/outdir';\n",
    "output_labelsC = {'Lung_Left', 'Lung_Right', 'Heart',...\n",
    "                  'Esophagus', 'Cord', 'PBT'};"
   ]
  },
  {
   "cell_type": "code",
   "execution_count": 12,
   "id": "cfbd595e-9734-471d-b448-c009bf6e6277",
   "metadata": {},
   "outputs": [],
   "source": [
    "%%capture\n",
    "%%octave\n",
    "\n",
    "## Run segmentation model\n",
    "cmd_flag = 'condaEnv';\n",
    "new_session = true;\n",
    "\n",
    "#Loop over CERR files\n",
    "dirS = dir([sample_data_dir,filesep,'*.mat']);\n",
    "dirS([dirS.isdir]) = [];\n",
    "origScanNumV = nan(1,length(dirS));\n",
    "fileC = fullfile(sample_data_dir,{dirS.name})\n",
    "numFiles = length(fileC)\n",
    "\n",
    "## Auto-segmentation model path and session dir\n",
    "algorithm = 'CT_LungOAR_incrMRRN';\n",
    "sessionPath = '/cluster/home/stratis/tmpdir'\n",
    "cmdFlag = 'condaEnv';\n",
    "newSessionFlag = 1;\n",
    "\n",
    "for iFile = 1:numFiles\n",
    "    # Load planC\n",
    "    planC = loadPlanC(fileC{iFile}, tempdir);\n",
    "    planC = updatePlanFields(planC);\n",
    "    planC = quality_assure_planC(fileC{iFile}, planC);\n",
    "    \n",
    "    # AI-segment\n",
    "    planC = runAIforPlanC(planC,sessionPath,algorithm,cmdFlag,...\n",
    "        newSessionFlag,[],[],lung_model_dir);\n",
    "    \n",
    "    #Export RT struct\n",
    "    scanNum = 1;\n",
    "    [~,exportFileName,~] = fileparts(fileC{iFile});\n",
    "    exportAISegToDICOM(planC,scanNum,output_dicom_path,exportFileName,[],output_labelsC);\n",
    "\n",
    "end"
   ]
  },
  {
   "cell_type": "markdown",
   "id": "8c13d19e-a670-402b-887a-111af1ace602",
   "metadata": {},
   "source": [
    "## Upload auto-segmentations to PIXNAT"
   ]
  },
  {
   "cell_type": "markdown",
   "id": "a834b3fc-4919-402e-9d07-1948909a1bae",
   "metadata": {},
   "source": [
    "Authenticate to PIXNAT via requests module with user credentials"
   ]
  },
  {
   "cell_type": "code",
   "execution_count": 13,
   "id": "b5f298b5-db96-47ad-a710-0cb7e0dc00f3",
   "metadata": {},
   "outputs": [],
   "source": [
    "session = requests.Session()\n",
    "session.auth = (xusr, xpwd)\n",
    "auth = session.post(xhost)"
   ]
  },
  {
   "cell_type": "code",
   "execution_count": 14,
   "id": "7b11a7af-0d79-47f7-ada9-0cd49b65096b",
   "metadata": {},
   "outputs": [],
   "source": [
    "def fix_rtdcm(file_name):\n",
    "    rtdcm = pydicom.dcmread(file_name)\n",
    "    if rtdcm.StudyDate=='':\n",
    "        rtdcm.StudyDate=rtdcm.StructureSetDate\n",
    "\n",
    "    if rtdcm.StructureSetTime=='':\n",
    "        rtdcm.StructureSetTime=time.strftime('%H%M%S') + '.00'\n",
    "\n",
    "    if rtdcm.StudyTime=='':\n",
    "        rtdcm.StudyTime=rtdcm.StructureSetTime\n",
    "\n",
    "    try:\n",
    "        agestr = rtdcm['PatientAge'].value\n",
    "        if agestr != '':\n",
    "            patientAge = int(agestr[:-1])\n",
    "        if patientAge > 100:\n",
    "            rtdcm['PatientAge'].value = '099Y'\n",
    "    except:\n",
    "        print('No PatientAge tag')\n",
    "    rtdcm.save_as(file_name)\n",
    "    return rtdcm"
   ]
  },
  {
   "cell_type": "code",
   "execution_count": 15,
   "id": "d419ef82-95d5-4259-96eb-00763c2e2d7a",
   "metadata": {},
   "outputs": [
    {
     "name": "stdout",
     "output_type": "stream",
     "text": [
      "['0617-501626_CERRfile.dcm']\n",
      "No PatientAge tag\n",
      "['0617-380962_CERRfile.dcm']\n",
      "No PatientAge tag\n",
      "['0617-410508_CERRfile.dcm']\n",
      "No PatientAge tag\n"
     ]
    }
   ],
   "source": [
    "output_dicom_path = '/cluster/home/stratis/outdir'\n",
    "rtstruct_files = os.listdir(output_dicom_path)\n",
    "\n",
    "for file in rtstruct_files:\n",
    "    subj = file.split()\n",
    "    print(subj)\n",
    "    file_name = os.path.join(output_dicom_path,file)\n",
    "    rtdcm = fix_rtdcm(file_name)\n",
    "    \n",
    "    rt_data = open(file_name, 'rb')\n",
    "    xuid = rtdcm['SeriesDescription'].value\n",
    "    headers = {'Content-Type':'application/octet-stream','Accept':'text/plain'}\n",
    "    xsubj = xproj.subjects(subj)\n",
    "    xexp = xsubj.experiments(exp)\n",
    "    req_URL = xhost + '/xapi/roi/projects/' + proj + '/sessions/' + exp + '/collections/' + xuid + '?type=RTSTRUCT&overwrite=true'\n",
    "    \n",
    "    r = session.put(req_URL,headers=headers,data=rt_data)\n",
    "    r.content"
   ]
  },
  {
   "cell_type": "markdown",
   "id": "3ce5284f-ae0d-4bea-a2b4-5984f2b60e44",
   "metadata": {},
   "source": [
    "## Visualize segmentations"
   ]
  },
  {
   "cell_type": "code",
   "execution_count": 16,
   "id": "fbb92728-e294-4809-98dc-d022d6467627",
   "metadata": {},
   "outputs": [],
   "source": [
    "%%capture\n",
    "%%octave\n",
    "\n",
    "#Get scan array\n",
    "indexS = planC{end};\n",
    "scanNum = 1;\n",
    "ctOffset = planC{indexS.scan}(scanNum).scanInfo(1).CTOffset;\n",
    "scanArray = single(getScanArray(scanNum,planC)) - ctOffset;\n",
    "\n",
    "#Get structure labels & masks\n",
    "numStructs = length(planC{indexS.structures});\n",
    "structNameC = {planC{indexS.structures}.structureName}\n",
    "strNameC = {'Lung_Left', 'Lung_Right', 'Heart',...\n",
    "            'Esophagus', 'Cord', 'PBT'};\n",
    "\n",
    "for strNum = 1:length(strNameC)\n",
    "    searchStr = strNameC{strNum};\n",
    "    idx = getMatchingIndex(searchStr,structNameC,'EXACT')\n",
    "    mask3M = getStrMask(idx(end), planC);\n",
    "    maskC{strNum} = mask3M;\n",
    "end     \n",
    "\n",
    "% Get scan grid\n",
    "[xScanValsV,yScanValsV,zScanValsV] = getScanXYZVals(planC{indexS.scan}(scanNum));"
   ]
  },
  {
   "cell_type": "code",
   "execution_count": 17
   "id": "a7be023e-5a8a-4ac1-af34-7f5c98bf0de8",
   "metadata": {},
   "outputs": [],
   "source": [
    "%octave_pull maskC strNameC scanArray xScanValsV yScanValsV zScanValsV"
   ]
  },
  {
   "cell_type": "code",
   "execution_count": 18,
   "id": "01d43155-ccd0-4011-ab94-119fbf826792",
   "metadata": {},
   "outputs": [
    {
     "name": "stdout",
     "output_type": "stream",
     "text": [
      "coronal view slice 256\n"
     ]
    },
    {
     "data": {
      "image/png": "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\n",
      "text/plain": [
       "<Figure size 1000x1000 with 2 Axes>"
      ]
     },
     "metadata": {},
     "output_type": "display_data"
    }
   ],
   "source": [
    "import matplotlib.pyplot as plt\n",
    "import numpy as np\n",
    "from IPython.display import clear_output\n",
    "import ipywidgets as widgets\n",
    "from ipywidgets import Layout\n",
    "\n",
    "window_center = -500\n",
    "window_width = 1500\n",
    "\n",
    "extent_trans = np.min(xScanValsV), np.max(xScanValsV), np.min(yScanValsV), np.max(yScanValsV)\n",
    "\n",
    "img_siz = scanArray.shape\n",
    "clear_output(wait=True)\n",
    "\n",
    "def window_image(image, window_center, window_width):\n",
    "    img_min = window_center - window_width // 2\n",
    "    img_max = window_center + window_width // 2\n",
    "    window_image = image.copy()\n",
    "    window_image[window_image < img_min] = img_min\n",
    "    window_image[window_image > img_max] = img_max\n",
    "    \n",
    "    return window_image\n",
    "\n",
    "def rotate_image(img):\n",
    "    return(list(zip(*img)))\n",
    "\n",
    "def show_slice(slcNum, view):\n",
    "    clear_output(wait=True)\n",
    "    print(view + ' view slice ' + str(slcNum))\n",
    "    if 'fig' in locals():\n",
    "        fig.remove()\n",
    "    fig, (ax,ax_legend) = plt.subplots(1,2)\n",
    "    ax_legend.set_visible(False)\n",
    "    \n",
    "    if view.lower() == 'axial':\n",
    "        windowed_img = window_image(scanArray[: ,: ,slcNum - 1], window_center, window_width)\n",
    "        extent = extent_trans\n",
    "    elif view.lower() == 'sagittal':\n",
    "        #windowed_img = rotate_image(window_image(scanArray[40:210, slcNum + 79, :], window_center, window_width))\n",
    "        windowed_img = rotate_image(window_image(scanArray[:, slcNum - 1, :], window_center, window_width))\n",
    "        extent = extent_sag\n",
    "    elif view.lower() == 'coronal':\n",
    "        windowed_img = rotate_image(window_image(scanArray[slcNum - 1, :, :], window_center, window_width))\n",
    "        extent = extent_cor\n",
    "    else:\n",
    "        raise Exeception('Invalid view type: ' + view)\n",
    "    \n",
    "    im1 = ax.imshow(windowed_img, cmap=plt.cm.gray, alpha=1,\n",
    "                    interpolation='nearest', extent=extent)\n",
    "    \n",
    "    cmaps = [plt.cm.get_cmap(\"Oranges\").copy(),plt.cm.get_cmap(\"Oranges\").copy(), \\\n",
    "             plt.cm.get_cmap(\"Blues\").copy(),plt.cm.get_cmap(\"Blues\").copy(), \\\n",
    "             plt.cm.get_cmap(\"Purples\").copy(),plt.cm.get_cmap(\"Greens\").copy()]\n",
    "\n",
    "    if view.lower() == 'axial':\n",
    "        for maskNum in range(0,6,1):\n",
    "            mask_cmap = cmaps[maskNum]\n",
    "            mask_cmap.set_under('k', alpha=0)\n",
    "            im2 = ax.imshow(maskC[0,maskNum][:,:,slcNum-1], \n",
    "                            cmap=mask_cmap, alpha=.8, extent=extent,\n",
    "                            interpolation='none', clim=[0.5, 1])      \n",
    "            \n",
    "    elif view.lower() == 'sagittal': \n",
    "        for maskNum in range(0,6,1):\n",
    "            mask_cmap = cmaps[maskNum]\n",
    "            mask_cmap.set_under('k', alpha=0)\n",
    "            #im2 = ax.imshow(rotate_image(maskC[0,maskNum][50:200, slcNum + 79, :]),\n",
    "            #                cmap=mask_cmap, alpha=.8, extent=extent,\n",
    "            #                interpolation='none', clim=[0.5, 1])\n",
    "            im2 = ax.imshow(rotate_image(maskC[0,maskNum][:, slcNum - 1, :]),\n",
    "                            cmap=mask_cmap, alpha=.8, extent=extent,\n",
    "                            interpolation='none', clim=[0.5, 1])\n",
    "            \n",
    "    elif view.lower() == 'coronal':\n",
    "        for maskNum in range(0,6,1):\n",
    "            mask_cmap = cmaps[maskNum]\n",
    "            mask_cmap.set_under('k', alpha=0)\n",
    "            #im2 = ax.imshow(rotate_image(maskC[0,maskNum][slcNum + 60, 50:200, :]),\n",
    "            #                cmap=mask_cmap, alpha=.8, extent=extent,\n",
    "            #                interpolation='none', clim=[0.5, 1])\n",
    "            im2 = ax.imshow(rotate_image(maskC[0,maskNum][slcNum - 1, :, :]),\n",
    "                            cmap=mask_cmap, alpha=.8, extent=extent,\n",
    "                            interpolation='none', clim=[0.5, 1])\n",
    "    ax.set_xticks([])\n",
    "    ax.set_yticks([])\n",
    "    ax.set_xticklabels([])\n",
    "    ax.set_yticklabels([])\n",
    "    plt.rcParams[\"figure.figsize\"] = (10, 10)\n",
    "    plt.show()\n",
    "    \n",
    "slice_slider_axial = widgets.IntSlider(min=1,max=img_siz[2],step=1)\n",
    "outputSlc_axial = widgets.Output()\n",
    "    \n",
    "#slice_slider_sagittal = widgets.IntSlider(min=1,max=88,step=1)\n",
    "slice_slider_sagittal = widgets.IntSlider(min=1,max=img_siz[1],step=1)\n",
    "outputSlc_sagittal = widgets.Output()\n",
    "\n",
    "#slice_slider_coronal = widgets.IntSlider(min=1,max=116,step=1)\n",
    "slice_slider_coronal = widgets.IntSlider(min=1,max=img_siz[0],step=1)\n",
    "outputSlc_coronal = widgets.Output()\n",
    "\n",
    "display(slice_slider_axial, outputSlc_axial, slice_slider_sagittal, outputSlc_sagittal, slice_slider_coronal,outputSlc_coronal)\n",
    "\n",
    "def update_slice_axial(change):\n",
    "    with outputSlc_axial:\n",
    "        show_slice(change['new'], 'axial')\n",
    "\n",
    "def update_slice_sagittal(change):\n",
    "    with outputSlc_sagittal:\n",
    "        show_slice(change['new'], 'sagittal')\n",
    "        \n",
    "def update_slice_coronal(change):\n",
    "    with outputSlc_coronal:\n",
    "        show_slice(change['new'], 'coronal')\n",
    "        \n",
    "slice_slider_axial.observe(update_slice_axial, names='value')\n",
    "slice_slider_sagittal.observe(update_slice_sagittal, names='value')\n",
    "slice_slider_coronal.observe(update_slice_coronal, names='value')\n",
    "\n",
    "# Set values to display figures\n",
    "slice_slider_axial.value = round(img_siz[2]/2)\n",
    "slice_slider_sagittal.value = round(img_siz[1]/2)\n",
    "slice_slider_coronal.value = round(img_siz[0]/2)"
   ]
  },
  {
   "cell_type": "code",
   "execution_count": 19,
   "id": "18bec676-ac3d-4f7f-ad9f-609f963613b7",
   "metadata": {},
   "outputs": [],
   "source": []
  }
 ],
 "metadata": {
  "kernelspec": {
   "display_name": "Python 3 (ipykernel)",
   "language": "python",
   "name": "python3"
  },
  "language_info": {
   "codemirror_mode": {
    "name": "ipython",
    "version": 3
   },
   "file_extension": ".py",
   "mimetype": "text/x-python",
   "name": "python",
   "nbconvert_exporter": "python",
   "pygments_lexer": "ipython3",
   "version": "3.11.0"
  }
 },
 "nbformat": 4,
 "nbformat_minor": 5
}
