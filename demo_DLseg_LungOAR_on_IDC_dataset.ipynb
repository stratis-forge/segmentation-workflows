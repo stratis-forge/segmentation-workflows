{
  "nbformat": 4,
  "nbformat_minor": 0,
  "metadata": {
    "colab": {
      "provenance": []
    },
    "kernelspec": {
      "name": "python3",
      "display_name": "Python 3"
    },
    "language_info": {
      "name": "python"
    },
    "accelerator": "GPU",
    "gpuClass": "standard"
  },
  "cells": [
    {
      "cell_type": "markdown",
      "source": [
        "<a href=\"https://colab.research.google.com/github/stratis-forge/segmentation-workflows/blob/main/demo_DLseg_LungOAR_on_IDC_dataset.ipynb\" target=\"_parent\"><img src=\"https://colab.research.google.com/assets/colab-badge.svg\" alt=\"Open In Colab\"/></a>"
      ],
      "metadata": {
        "id": "18HNIZbJtzV0"
      }
    },
    {
      "cell_type": "markdown",
      "source": [
        "# Introduction\n",
        "*   In this tutorial, we will demonstrate how to apply AI segmentation model for [Lung OAR](https://doi.org/10.48550/arXiv.2005.13690) using STRATIS on a cohort of patients from the [NCI's IDC](https://portal.imaging.datacommons.cancer.gov/about/) repository. \n",
        "\n",
        "*   The Lung OAR model was trained and validated on CT scans used for RT planning. It does not work optimally on diagnostic CTs.\n",
        "\n",
        "*   This example uses lung CT scans of non-small cell lung cancer (NSCLC) patients from the [Lung1](https://wiki.cancerimagingarchive.net/display/Public/NSCLC-Radiomics) dataset.\n",
        "\n",
        "*   The entire notebook which includes the download of Octave, CERR, pre-trained model and 5 Lung scans, AI segmentation and visualization takes approximately 15 minutes to run. Octave and AI model can be saved to Google drive to save time. Segmentation of Lung OARs takes about 20-25 seconds per scan. So 100 scans in planC format will be segmented in about 40 minutes. Segmented scans can be stored to Google drive for further analysis.\n",
        "\n",
        "*   The AI model requires GPU. Use Runtime with a GPU on Google Colab platform.\n",
        "\n",
        "\n",
        "\n"
      ],
      "metadata": {
        "id": "_FNmwyUvStsB"
      }
    },
    {
      "cell_type": "markdown",
      "source": [
        "## Install GNU Octave and CERR \n"
      ],
      "metadata": {
        "id": "0Ipsbvj4aojp"
      }
    },
    {
      "cell_type": "markdown",
      "source": [
        "* GNU Octave with `statistics`, `io` & `image` packages for Debian/Linux is distributed via MSKCC Box.\n",
        "* CERR is downloaded from https://github.com/CERR/cerr\n",
        "* Oct2py and Octave_kernel Python packages are required for Octave-Python bridge.\n",
        "\n",
        " *See [installation instructions for different operating systems](https://github.com/stratis-forge/installation-and-dependencies).*  \n",
        " \n",
        " *Octave and CERR can be saved to Google Drive to avoid downloadig every time.*\n",
        "\n"
      ],
      "metadata": {
        "id": "xHO8moMgaknZ"
      }
    },
    {
      "cell_type": "code",
      "source": [
        "# Locations of Octave and CERR\n",
        "octave_path = '/content/octave'\n",
        "cerr_path = '/content/CERR'"
      ],
      "metadata": {
        "id": "hOzjlJTIawIt"
      },
      "execution_count": 1,
      "outputs": []
    },
    {
      "cell_type": "markdown",
      "source": [
        "#### Uncomment and evaluate the cell below to download GNU Octave and CERR"
      ],
      "metadata": {
        "id": "yulFVD4na1as"
      }
    },
    {
      "cell_type": "code",
      "source": [
        "%%capture\n",
        "\n",
        "# Download Octave\n",
        "oct_build_box = 'https://mskcc.box.com/shared/static/ylfkha0p66oc8v5kh2z1qx9m13n0ijcx.gz'\n",
        "oct_save_path = '/content/octave_7.3.0.tar.gz'\n",
        "! wget {oct_build_box} -O {oct_save_path}\n",
        "! tar xf {oct_save_path}\n",
        "! rm {oct_save_path}\n",
        "\n",
        "# Download CERR\n",
        "! cd \"$(dirname -- \"$cerr_path\")\" && git clone --depth 1 --single-branch --branch octave_dev https://www.github.com/cerr/CERR.git\n"
      ],
      "metadata": {
        "id": "tIkj2HlXW0QE"
      },
      "execution_count": 2,
      "outputs": []
    },
    {
      "cell_type": "markdown",
      "source": [
        "#### Install dependencies for GNU Octave and Oct2py bridge"
      ],
      "metadata": {
        "id": "TGKAKGAPbNTb"
      }
    },
    {
      "cell_type": "code",
      "source": [
        "%%capture\n",
        "# Download dependencies for Using Octave\n",
        "! apt-get update\n",
        "! cd /usr/lib/x86_64-linux-gnu/ && ln -s libhdf5_serial.so.103 libhdf5_serial.so.100 && ln -s libreadline.so.8 libreadline.so.7\n",
        "! apt-get install libgraphicsmagick++-q16-12 libcholmod3 libcxsparse3 \\\n",
        "libumfpack5 libspqr2 libqrupdate1 libfftw3-3 libgfortran4 gnuplot openjdk-8-jdk\n",
        "\n",
        "# Set path to Octave exectuable \n",
        "import os, urllib.request, json\n",
        "os.environ['OCTAVE_EXECUTABLE'] = octave_path + '/bin/octave-cli'\n",
        "os.environ['PATH'] = octave_path + '/bin:' + os.environ['PATH']\n",
        "\n",
        "# Install oct2py bridge for Python-Octave communication\n",
        "! pip3 install octave_kernel\n",
        "! pip3 install oct2py==5.6.0\n",
        "\n",
        "# Enable Octave magic\n",
        "%load_ext oct2py.ipython"
      ],
      "metadata": {
        "id": "vvwN41PIZqVD"
      },
      "execution_count": 3,
      "outputs": []
    },
    {
      "cell_type": "markdown",
      "source": [
        "## Set up a GCP BigQuery project (Adapted from [IDC tutorials](https://github.com/ImagingDataCommons/IDC-Tutorials/blob/master/notebooks/getting_started/part1_prerequisites.ipynb))\n",
        "\n"
      ],
      "metadata": {
        "id": "Dqa9kjcoevez"
      }
    },
    {
      "cell_type": "markdown",
      "source": [
        "\n",
        "\n",
        "1.   ####  A Google account  \n",
        "  *Login to existing Google account or see [instructions](https://accounts.google.com/signup/v2/webcreateaccount?dsh=308321458437252901&continue=https%3A%2F%2Faccounts.google.com%2FManageAccount&flowName=GlifWebSignIn&flowEntry=SignUp#FirstName=&LastName=) to create a new account.*\n",
        "\n",
        "2.   #### Activate GCP for your account and create a GCP project  \n",
        " \n",
        "  1.  Go to https://console.cloud.google.com/, and accept Terms and conditions.\n",
        "  2.  Click `Select a project` in the upper-left corner of the GCP console.\n",
        "  3.  Click `Create new project`.\n",
        "  4.  Open the GCP console menu icon `☰` and select `Dashboard` to view   information about your project. Copy your `Project ID` and insert it in place of `REPLACE_ME_WITH_YOUR_PROJECT_ID` in the cell below.   \n",
        "\n",
        "\n",
        "3. #### Add the bigquery-public-data project\n",
        "  1. Open the BigQuery console: https://console.cloud.google.com/bigquery, and click the `+ ADD DATA` button.\n",
        "  2. Select `Star project by name` and type in `bigquery-public-data` as the project name.\n"
      ],
      "metadata": {
        "id": "RjFggvL5fd68"
      }
    },
    {
      "cell_type": "markdown",
      "source": [
        "## Authentication for Google services"
      ],
      "metadata": {
        "id": "y4hUygf1VLmq"
      }
    },
    {
      "cell_type": "code",
      "source": [
        "# Initialize Google Cloud Project ID\n",
        "my_ProjectID = \"lungoarseg\" #\"REPLACE_ME_WITH_YOUR_PROJECT_ID\" #Replace with project ID \n",
        "\n",
        "import os\n",
        "os.environ[\"GCP_PROJECT_ID\"] = my_ProjectID"
      ],
      "metadata": {
        "id": "eI0dk5DDSlhQ"
      },
      "execution_count": 4,
      "outputs": []
    },
    {
      "cell_type": "code",
      "source": [
        "from google.colab import auth\n",
        "auth.authenticate_user()"
      ],
      "metadata": {
        "id": "e613RG9eWhGT"
      },
      "execution_count": 5,
      "outputs": []
    },
    {
      "cell_type": "markdown",
      "source": [
        "## Download selected cohort"
      ],
      "metadata": {
        "id": "E9EqL80GVSf5"
      }
    },
    {
      "cell_type": "markdown",
      "source": [
        "Query the `idc_current` dataset and output a dataframe with URLs for patients from the `RIDER Lung CT` dataset.   "
      ],
      "metadata": {
        "id": "TUySF22Ha_vi"
      }
    },
    {
      "cell_type": "code",
      "source": [
        "from google.cloud import bigquery\n",
        "\n",
        "bq_client = bigquery.Client(my_ProjectID) # BigQuery client is initialized with \n",
        "                                          # user-input project ID  \n",
        "\n",
        "selection_query = \"\"\"\n",
        "SELECT\n",
        "  PatientID,\n",
        "  StudyInstanceUID,\n",
        "  SeriesInstanceUID,\n",
        "  collection_id,\n",
        "  gcs_url\n",
        "FROM\n",
        "  `bigquery-public-data.idc_current.dicom_all`\n",
        "WHERE\n",
        "  Modality = \"CT\"\n",
        "  AND Collection_ID = \"nsclc_radiomics\"\n",
        "\"\"\"\n",
        "selection_result = bq_client.query(selection_query)\n",
        "cohort_df = selection_result.result().to_dataframe()\n",
        "\n",
        "#cohort_df\n",
        "display(cohort_df.info())"
      ],
      "metadata": {
        "colab": {
          "base_uri": "https://localhost:8080/",
          "height": 270
        },
        "id": "iiVl0voJDz7t",
        "outputId": "539e81ed-e4d5-4f74-94cb-9b60481aba32"
      },
      "execution_count": 6,
      "outputs": [
        {
          "output_type": "stream",
          "name": "stdout",
          "text": [
            "<class 'pandas.core.frame.DataFrame'>\n",
            "RangeIndex: 51230 entries, 0 to 51229\n",
            "Data columns (total 5 columns):\n",
            " #   Column             Non-Null Count  Dtype \n",
            "---  ------             --------------  ----- \n",
            " 0   PatientID          51230 non-null  object\n",
            " 1   StudyInstanceUID   51230 non-null  object\n",
            " 2   SeriesInstanceUID  51230 non-null  object\n",
            " 3   collection_id      51230 non-null  object\n",
            " 4   gcs_url            51230 non-null  object\n",
            "dtypes: object(5)\n",
            "memory usage: 2.0+ MB\n"
          ]
        },
        {
          "output_type": "display_data",
          "data": {
            "text/plain": [
              "None"
            ]
          },
          "metadata": {}
        }
      ]
    },
    {
      "cell_type": "markdown",
      "source": [
        "We will use CT scans of a random subset of 5 patients for this demonstration"
      ],
      "metadata": {
        "id": "0RA5AqWAej0-"
      }
    },
    {
      "cell_type": "code",
      "source": [
        "from pandas import pandas\n",
        "import random\n",
        "\n",
        "num_sample = 5\n",
        "all_patients = set(cohort_df[\"PatientID\"])\n",
        "sample_patients = random.sample(all_patients,num_sample)\n",
        "subset_df = cohort_df[cohort_df[\"PatientID\"].isin(sample_patients)]\n",
        "\n",
        "selected_df = pandas.DataFrame()\n",
        "for patient in sample_patients:\n",
        "  patient_df = subset_df[subset_df[\"PatientID\"]==patient]\n",
        "  study_uids = list(patient_df[\"StudyInstanceUID\"].unique())\n",
        "  patient_study_df = patient_df[patient_df[\"StudyInstanceUID\"]==study_uids[0]]\n",
        "  series_uids = list(patient_study_df[\"SeriesInstanceUID\"].unique())\n",
        "  patient_series_df = patient_study_df[patient_study_df[\"SeriesInstanceUID\"]==series_uids[0]]\n",
        "  patient_series_df = patient_series_df.reset_index(drop=True)\n",
        "  if patient==sample_patients[0]:\n",
        "    selected_df = patient_series_df\n",
        "  else:\n",
        "    selected_df = pandas.concat([selected_df,patient_series_df])\n",
        "\n",
        "display(selected_df)"
      ],
      "metadata": {
        "colab": {
          "base_uri": "https://localhost:8080/",
          "height": 714
        },
        "id": "elA3NgXcG1bS",
        "outputId": "4e0202a9-994e-448b-eff7-e189fa909440"
      },
      "execution_count": 7,
      "outputs": [
        {
          "output_type": "display_data",
          "data": {
            "text/plain": [
              "     PatientID                                   StudyInstanceUID  \\\n",
              "0    LUNG1-376  1.3.6.1.4.1.32722.99.99.3348096133805362939855...   \n",
              "1    LUNG1-376  1.3.6.1.4.1.32722.99.99.3348096133805362939855...   \n",
              "2    LUNG1-376  1.3.6.1.4.1.32722.99.99.3348096133805362939855...   \n",
              "3    LUNG1-376  1.3.6.1.4.1.32722.99.99.3348096133805362939855...   \n",
              "4    LUNG1-376  1.3.6.1.4.1.32722.99.99.3348096133805362939855...   \n",
              "..         ...                                                ...   \n",
              "292  LUNG1-104  1.3.6.1.4.1.32722.99.99.1780263411807114271561...   \n",
              "293  LUNG1-104  1.3.6.1.4.1.32722.99.99.1780263411807114271561...   \n",
              "294  LUNG1-104  1.3.6.1.4.1.32722.99.99.1780263411807114271561...   \n",
              "295  LUNG1-104  1.3.6.1.4.1.32722.99.99.1780263411807114271561...   \n",
              "296  LUNG1-104  1.3.6.1.4.1.32722.99.99.1780263411807114271561...   \n",
              "\n",
              "                                     SeriesInstanceUID    collection_id  \\\n",
              "0    1.3.6.1.4.1.32722.99.99.5466410891222873310265...  nsclc_radiomics   \n",
              "1    1.3.6.1.4.1.32722.99.99.5466410891222873310265...  nsclc_radiomics   \n",
              "2    1.3.6.1.4.1.32722.99.99.5466410891222873310265...  nsclc_radiomics   \n",
              "3    1.3.6.1.4.1.32722.99.99.5466410891222873310265...  nsclc_radiomics   \n",
              "4    1.3.6.1.4.1.32722.99.99.5466410891222873310265...  nsclc_radiomics   \n",
              "..                                                 ...              ...   \n",
              "292  1.3.6.1.4.1.32722.99.99.4081217285059397726467...  nsclc_radiomics   \n",
              "293  1.3.6.1.4.1.32722.99.99.4081217285059397726467...  nsclc_radiomics   \n",
              "294  1.3.6.1.4.1.32722.99.99.4081217285059397726467...  nsclc_radiomics   \n",
              "295  1.3.6.1.4.1.32722.99.99.4081217285059397726467...  nsclc_radiomics   \n",
              "296  1.3.6.1.4.1.32722.99.99.4081217285059397726467...  nsclc_radiomics   \n",
              "\n",
              "                                               gcs_url  \n",
              "0    gs://idc-open-cr/239b6114-db48-4a7f-9228-ddc28...  \n",
              "1    gs://idc-open-cr/d667df18-766a-4988-8ab0-b7b78...  \n",
              "2    gs://idc-open-cr/c11bb035-a963-4b5c-8284-e3a81...  \n",
              "3    gs://idc-open-cr/900b7a30-81e1-43a7-8853-ffab6...  \n",
              "4    gs://idc-open-cr/2b35913d-dde4-4ea1-8234-2888f...  \n",
              "..                                                 ...  \n",
              "292  gs://idc-open-cr/bdaad7ac-ce14-4dfc-90b1-47f46...  \n",
              "293  gs://idc-open-cr/55b9b7c0-a835-4ede-be64-db101...  \n",
              "294  gs://idc-open-cr/25d820db-3a01-4a08-902f-33f8a...  \n",
              "295  gs://idc-open-cr/f3b3bad4-90d4-4f09-b4f8-fd1be...  \n",
              "296  gs://idc-open-cr/874e60c8-d5b1-4454-af67-3e254...  \n",
              "\n",
              "[766 rows x 5 columns]"
            ],
            "text/html": [
              "\n",
              "  <div id=\"df-40fc974d-4f3c-4d8d-9f83-49bb4701ab86\">\n",
              "    <div class=\"colab-df-container\">\n",
              "      <div>\n",
              "<style scoped>\n",
              "    .dataframe tbody tr th:only-of-type {\n",
              "        vertical-align: middle;\n",
              "    }\n",
              "\n",
              "    .dataframe tbody tr th {\n",
              "        vertical-align: top;\n",
              "    }\n",
              "\n",
              "    .dataframe thead th {\n",
              "        text-align: right;\n",
              "    }\n",
              "</style>\n",
              "<table border=\"1\" class=\"dataframe\">\n",
              "  <thead>\n",
              "    <tr style=\"text-align: right;\">\n",
              "      <th></th>\n",
              "      <th>PatientID</th>\n",
              "      <th>StudyInstanceUID</th>\n",
              "      <th>SeriesInstanceUID</th>\n",
              "      <th>collection_id</th>\n",
              "      <th>gcs_url</th>\n",
              "    </tr>\n",
              "  </thead>\n",
              "  <tbody>\n",
              "    <tr>\n",
              "      <th>0</th>\n",
              "      <td>LUNG1-376</td>\n",
              "      <td>1.3.6.1.4.1.32722.99.99.3348096133805362939855...</td>\n",
              "      <td>1.3.6.1.4.1.32722.99.99.5466410891222873310265...</td>\n",
              "      <td>nsclc_radiomics</td>\n",
              "      <td>gs://idc-open-cr/239b6114-db48-4a7f-9228-ddc28...</td>\n",
              "    </tr>\n",
              "    <tr>\n",
              "      <th>1</th>\n",
              "      <td>LUNG1-376</td>\n",
              "      <td>1.3.6.1.4.1.32722.99.99.3348096133805362939855...</td>\n",
              "      <td>1.3.6.1.4.1.32722.99.99.5466410891222873310265...</td>\n",
              "      <td>nsclc_radiomics</td>\n",
              "      <td>gs://idc-open-cr/d667df18-766a-4988-8ab0-b7b78...</td>\n",
              "    </tr>\n",
              "    <tr>\n",
              "      <th>2</th>\n",
              "      <td>LUNG1-376</td>\n",
              "      <td>1.3.6.1.4.1.32722.99.99.3348096133805362939855...</td>\n",
              "      <td>1.3.6.1.4.1.32722.99.99.5466410891222873310265...</td>\n",
              "      <td>nsclc_radiomics</td>\n",
              "      <td>gs://idc-open-cr/c11bb035-a963-4b5c-8284-e3a81...</td>\n",
              "    </tr>\n",
              "    <tr>\n",
              "      <th>3</th>\n",
              "      <td>LUNG1-376</td>\n",
              "      <td>1.3.6.1.4.1.32722.99.99.3348096133805362939855...</td>\n",
              "      <td>1.3.6.1.4.1.32722.99.99.5466410891222873310265...</td>\n",
              "      <td>nsclc_radiomics</td>\n",
              "      <td>gs://idc-open-cr/900b7a30-81e1-43a7-8853-ffab6...</td>\n",
              "    </tr>\n",
              "    <tr>\n",
              "      <th>4</th>\n",
              "      <td>LUNG1-376</td>\n",
              "      <td>1.3.6.1.4.1.32722.99.99.3348096133805362939855...</td>\n",
              "      <td>1.3.6.1.4.1.32722.99.99.5466410891222873310265...</td>\n",
              "      <td>nsclc_radiomics</td>\n",
              "      <td>gs://idc-open-cr/2b35913d-dde4-4ea1-8234-2888f...</td>\n",
              "    </tr>\n",
              "    <tr>\n",
              "      <th>...</th>\n",
              "      <td>...</td>\n",
              "      <td>...</td>\n",
              "      <td>...</td>\n",
              "      <td>...</td>\n",
              "      <td>...</td>\n",
              "    </tr>\n",
              "    <tr>\n",
              "      <th>292</th>\n",
              "      <td>LUNG1-104</td>\n",
              "      <td>1.3.6.1.4.1.32722.99.99.1780263411807114271561...</td>\n",
              "      <td>1.3.6.1.4.1.32722.99.99.4081217285059397726467...</td>\n",
              "      <td>nsclc_radiomics</td>\n",
              "      <td>gs://idc-open-cr/bdaad7ac-ce14-4dfc-90b1-47f46...</td>\n",
              "    </tr>\n",
              "    <tr>\n",
              "      <th>293</th>\n",
              "      <td>LUNG1-104</td>\n",
              "      <td>1.3.6.1.4.1.32722.99.99.1780263411807114271561...</td>\n",
              "      <td>1.3.6.1.4.1.32722.99.99.4081217285059397726467...</td>\n",
              "      <td>nsclc_radiomics</td>\n",
              "      <td>gs://idc-open-cr/55b9b7c0-a835-4ede-be64-db101...</td>\n",
              "    </tr>\n",
              "    <tr>\n",
              "      <th>294</th>\n",
              "      <td>LUNG1-104</td>\n",
              "      <td>1.3.6.1.4.1.32722.99.99.1780263411807114271561...</td>\n",
              "      <td>1.3.6.1.4.1.32722.99.99.4081217285059397726467...</td>\n",
              "      <td>nsclc_radiomics</td>\n",
              "      <td>gs://idc-open-cr/25d820db-3a01-4a08-902f-33f8a...</td>\n",
              "    </tr>\n",
              "    <tr>\n",
              "      <th>295</th>\n",
              "      <td>LUNG1-104</td>\n",
              "      <td>1.3.6.1.4.1.32722.99.99.1780263411807114271561...</td>\n",
              "      <td>1.3.6.1.4.1.32722.99.99.4081217285059397726467...</td>\n",
              "      <td>nsclc_radiomics</td>\n",
              "      <td>gs://idc-open-cr/f3b3bad4-90d4-4f09-b4f8-fd1be...</td>\n",
              "    </tr>\n",
              "    <tr>\n",
              "      <th>296</th>\n",
              "      <td>LUNG1-104</td>\n",
              "      <td>1.3.6.1.4.1.32722.99.99.1780263411807114271561...</td>\n",
              "      <td>1.3.6.1.4.1.32722.99.99.4081217285059397726467...</td>\n",
              "      <td>nsclc_radiomics</td>\n",
              "      <td>gs://idc-open-cr/874e60c8-d5b1-4454-af67-3e254...</td>\n",
              "    </tr>\n",
              "  </tbody>\n",
              "</table>\n",
              "<p>766 rows × 5 columns</p>\n",
              "</div>\n",
              "      <button class=\"colab-df-convert\" onclick=\"convertToInteractive('df-40fc974d-4f3c-4d8d-9f83-49bb4701ab86')\"\n",
              "              title=\"Convert this dataframe to an interactive table.\"\n",
              "              style=\"display:none;\">\n",
              "        \n",
              "  <svg xmlns=\"http://www.w3.org/2000/svg\" height=\"24px\"viewBox=\"0 0 24 24\"\n",
              "       width=\"24px\">\n",
              "    <path d=\"M0 0h24v24H0V0z\" fill=\"none\"/>\n",
              "    <path d=\"M18.56 5.44l.94 2.06.94-2.06 2.06-.94-2.06-.94-.94-2.06-.94 2.06-2.06.94zm-11 1L8.5 8.5l.94-2.06 2.06-.94-2.06-.94L8.5 2.5l-.94 2.06-2.06.94zm10 10l.94 2.06.94-2.06 2.06-.94-2.06-.94-.94-2.06-.94 2.06-2.06.94z\"/><path d=\"M17.41 7.96l-1.37-1.37c-.4-.4-.92-.59-1.43-.59-.52 0-1.04.2-1.43.59L10.3 9.45l-7.72 7.72c-.78.78-.78 2.05 0 2.83L4 21.41c.39.39.9.59 1.41.59.51 0 1.02-.2 1.41-.59l7.78-7.78 2.81-2.81c.8-.78.8-2.07 0-2.86zM5.41 20L4 18.59l7.72-7.72 1.47 1.35L5.41 20z\"/>\n",
              "  </svg>\n",
              "      </button>\n",
              "      \n",
              "  <style>\n",
              "    .colab-df-container {\n",
              "      display:flex;\n",
              "      flex-wrap:wrap;\n",
              "      gap: 12px;\n",
              "    }\n",
              "\n",
              "    .colab-df-convert {\n",
              "      background-color: #E8F0FE;\n",
              "      border: none;\n",
              "      border-radius: 50%;\n",
              "      cursor: pointer;\n",
              "      display: none;\n",
              "      fill: #1967D2;\n",
              "      height: 32px;\n",
              "      padding: 0 0 0 0;\n",
              "      width: 32px;\n",
              "    }\n",
              "\n",
              "    .colab-df-convert:hover {\n",
              "      background-color: #E2EBFA;\n",
              "      box-shadow: 0px 1px 2px rgba(60, 64, 67, 0.3), 0px 1px 3px 1px rgba(60, 64, 67, 0.15);\n",
              "      fill: #174EA6;\n",
              "    }\n",
              "\n",
              "    [theme=dark] .colab-df-convert {\n",
              "      background-color: #3B4455;\n",
              "      fill: #D2E3FC;\n",
              "    }\n",
              "\n",
              "    [theme=dark] .colab-df-convert:hover {\n",
              "      background-color: #434B5C;\n",
              "      box-shadow: 0px 1px 3px 1px rgba(0, 0, 0, 0.15);\n",
              "      filter: drop-shadow(0px 1px 2px rgba(0, 0, 0, 0.3));\n",
              "      fill: #FFFFFF;\n",
              "    }\n",
              "  </style>\n",
              "\n",
              "      <script>\n",
              "        const buttonEl =\n",
              "          document.querySelector('#df-40fc974d-4f3c-4d8d-9f83-49bb4701ab86 button.colab-df-convert');\n",
              "        buttonEl.style.display =\n",
              "          google.colab.kernel.accessAllowed ? 'block' : 'none';\n",
              "\n",
              "        async function convertToInteractive(key) {\n",
              "          const element = document.querySelector('#df-40fc974d-4f3c-4d8d-9f83-49bb4701ab86');\n",
              "          const dataTable =\n",
              "            await google.colab.kernel.invokeFunction('convertToInteractive',\n",
              "                                                     [key], {});\n",
              "          if (!dataTable) return;\n",
              "\n",
              "          const docLinkHtml = 'Like what you see? Visit the ' +\n",
              "            '<a target=\"_blank\" href=https://colab.research.google.com/notebooks/data_table.ipynb>data table notebook</a>'\n",
              "            + ' to learn more about interactive tables.';\n",
              "          element.innerHTML = '';\n",
              "          dataTable['output_type'] = 'display_data';\n",
              "          await google.colab.output.renderOutput(dataTable, element);\n",
              "          const docLink = document.createElement('div');\n",
              "          docLink.innerHTML = docLinkHtml;\n",
              "          element.appendChild(docLink);\n",
              "        }\n",
              "      </script>\n",
              "    </div>\n",
              "  </div>\n",
              "  "
            ]
          },
          "metadata": {}
        }
      ]
    },
    {
      "cell_type": "markdown",
      "source": [
        "Save URLs into a manifest file for download using `gsutil` from the Google Cloud SDK*. \n",
        "\n",
        "*Note: Google Cloud SDK is pre-installed on Colab, but will need to be installed if downloading directly to your computer.* "
      ],
      "metadata": {
        "id": "jYsDNhEtbmJl"
      }
    },
    {
      "cell_type": "code",
      "source": [
        "%%capture\n",
        "#Save URLs to manifest file\n",
        "selected_df[\"gcs_url\"].to_csv(\"manifest.txt\", header=False, index=False)\n",
        "\n",
        "#Download images to /content/downloaded_cohort_files\n",
        "!rm -rf downloaded_cohort_files && mkdir downloaded_cohort_files\n",
        "!cat manifest.txt | gsutil -m cp -I downloaded_cohort_files"
      ],
      "metadata": {
        "id": "rjTYRU4nZT7c"
      },
      "execution_count": 8,
      "outputs": []
    },
    {
      "cell_type": "markdown",
      "source": [
        "## Install *DICOMSort* to organize downloaded data\n",
        "\n"
      ],
      "metadata": {
        "id": "lNhkCVb1q1pa"
      }
    },
    {
      "cell_type": "code",
      "source": [
        "%%capture\n",
        "!git clone https://github.com/pieper/dicomsort src/dicomsort\n",
        "!pip install -r /content/src/dicomsort/requirements.txt"
      ],
      "metadata": {
        "id": "faSwzPkdqw0i"
      },
      "execution_count": 9,
      "outputs": []
    },
    {
      "cell_type": "markdown",
      "source": [
        "Organize DICOM files by patient ID and modality"
      ],
      "metadata": {
        "id": "egascq-9pwYl"
      }
    },
    {
      "cell_type": "code",
      "source": [
        "%%capture\n",
        "# Run  DICOMSort \n",
        "!python src/dicomsort/dicomsort.py -u /content/downloaded_cohort_files/ /content/organized_cohort_files/dicom/%PatientID/%SOPInstanceUID.dcm\n",
        "\n",
        "# Delete temporary directory for unsorted DICOM data \n",
        "!rm -rf /content/downloaded_cohort_files/"
      ],
      "metadata": {
        "id": "W5DkBwl2pjOX"
      },
      "execution_count": 10,
      "outputs": []
    },
    {
      "cell_type": "markdown",
      "source": [
        "## Download and unpack pretrained model\n",
        "(requires about 5 minutes to download)"
      ],
      "metadata": {
        "id": "bRkLuknk1NMO"
      }
    },
    {
      "cell_type": "code",
      "source": [
        "# Location to downloaded LungOAR model\n",
        "lung_model_dir = '/content/pretrained_lungOAR_model'\n"
      ],
      "metadata": {
        "id": "r4c7TG-zygsk"
      },
      "execution_count": 11,
      "outputs": []
    },
    {
      "cell_type": "code",
      "source": [
        "%%capture\n",
        "# Download packaged environment for the AI model\n",
        "ct_lung_oar_model_box = 'https://mskcc.box.com/shared/static/dqt4sm6laggmuylrrvn1i8nlt7b6hptt.gz'\n",
        "! mkdir {lung_model_dir}\n",
        "ct_lung_oar_save_path = 'ct_lung_oar.tar.gz'\n",
        "! wget {ct_lung_oar_model_box} -O {ct_lung_oar_save_path}\n",
        "! tar xf {ct_lung_oar_save_path} -C {lung_model_dir}\n",
        "! rm {ct_lung_oar_save_path}"
      ],
      "metadata": {
        "id": "PvHKKqQY1RmV"
      },
      "execution_count": 12,
      "outputs": []
    },
    {
      "cell_type": "markdown",
      "source": [
        "## Add CERR to GNU Octave path and load required Octave packages"
      ],
      "metadata": {
        "id": "mKyPd0L8df0f"
      }
    },
    {
      "cell_type": "code",
      "source": [
        "%octave_push cerr_path"
      ],
      "metadata": {
        "id": "IQpMskA-l4Sk"
      },
      "execution_count": 13,
      "outputs": []
    },
    {
      "cell_type": "code",
      "source": [
        "%%capture\n",
        "%%octave\n",
        "\n",
        "# Load the required Octave packages\n",
        "pkg load statistics\n",
        "pkg load image\n",
        "pkg load io\n",
        "\n",
        "# Add CERR to path\n",
        "addpath(cerr_path)\n",
        "addToPath(cerr_path)"
      ],
      "metadata": {
        "id": "CLqUtmD_wMu0"
      },
      "execution_count": 14,
      "outputs": []
    },
    {
      "cell_type": "markdown",
      "source": [
        "### Convert DIOCM data to CERR planC format"
      ],
      "metadata": {
        "id": "SNCi_TNPdkbZ"
      }
    },
    {
      "cell_type": "code",
      "source": [
        "%%capture\n",
        "%%octave\n",
        "sourceDir = '/content/organized_cohort_files/dicom'  \n",
        "destDir = '/content/organized_cohort_files/cerr/'  \n",
        "zipFlag = 'No';\n",
        "mergeFlag = 'No';\n",
        "singleCerrFileFlag = 'No';\n",
        "init_ML_DICOM;\n",
        "batchConvertWithSubDirs(sourceDir,destDir,zipFlag,mergeFlag,singleCerrFileFlag)"
      ],
      "metadata": {
        "id": "oGgjrQKxf_Zw"
      },
      "execution_count": 15,
      "outputs": []
    },
    {
      "cell_type": "markdown",
      "source": [
        "# Apply segmentation model to data in planC format"
      ],
      "metadata": {
        "id": "W0wDeXAm0Mj3"
      }
    },
    {
      "cell_type": "code",
      "source": [
        "%octave_push lung_model_dir"
      ],
      "metadata": {
        "id": "ZlJRVVM3yTP7"
      },
      "execution_count": 16,
      "outputs": []
    },
    {
      "cell_type": "code",
      "source": [
        "%%capture\n",
        "%%octave\n",
        "\n",
        "#Run segmentation model\n",
        "src_dir = '/content/organized_cohort_files/cerr';\n",
        "cmd_flag = 'condaEnv';\n",
        "new_session = true;\n",
        "\n",
        "#Loop over CERR files\n",
        "dirS = dir([src_dir,filesep,'*.mat']);\n",
        "dirS([dirS.isdir]) = [];\n",
        "origScanNumV = nan(1,length(dirS));\n",
        "fileC = fullfile(src_dir,{dirS.name});\n",
        "numFiles = length(fileC)\n",
        "\n",
        "## Auto-segmentation model path and session dir\n",
        "#model_dir = '/content/pretrained_lungOAR_model';\n",
        "algorithm = 'CT_LungOAR_incrMRRN';\n",
        "sessionPath = '/content/temp_session';\n",
        "cmdFlag = 'condaEnv';\n",
        "newSessionFlag = 1;\n",
        "\n",
        "for iFile = 1:numFiles\n",
        "    # Load planC\n",
        "    planC = loadPlanC(fileC{iFile}, tempdir);\n",
        "    planC = updatePlanFields(planC);\n",
        "    planC = quality_assure_planC(fileC{iFile}, planC);\n",
        "    \n",
        "    # AI-segment\n",
        "    planC = runAIforPlanC(planC,sessionPath,algorithm,cmdFlag,...\n",
        "        newSessionFlag,[],[],lung_model_dir);\n",
        "\n",
        "    # Save planC with AI segmentation\n",
        "    planC = save_planC(planC,[],'passed',fileC{iFile});\n",
        "\n",
        "end\n",
        "\n"
      ],
      "metadata": {
        "id": "Hrh4KeOg0JaF"
      },
      "execution_count": 17,
      "outputs": []
    },
    {
      "cell_type": "markdown",
      "source": [
        "# Extract segmented masks from planC"
      ],
      "metadata": {
        "id": "v2EMyf-Fy1w1"
      }
    },
    {
      "cell_type": "code",
      "source": [
        "%%capture\n",
        "%%octave\n",
        "\n",
        "%Load sample result\n",
        "out_path = fullfile(src_dir,dirS(1).name)\n",
        "planC = loadPlanC(out_path,tempdir);\n",
        "planC = updatePlanFields(planC);\n",
        "planC = quality_assure_planC(out_path,planC);\n",
        "\n",
        "%Get scan array\n",
        "indexS = planC{end};\n",
        "scanNum = 1;\n",
        "ctOffset = planC{indexS.scan}(scanNum).scanInfo(1).CTOffset;\n",
        "scanArray = single(getScanArray(scanNum,planC)) - ctOffset;\n",
        "\n",
        "%Get structure labels & masks\n",
        "numStructs = length(planC{indexS.structures});\n",
        "structNameC = {planC{indexS.structures}.structureName};\n",
        "strNameC = {'Lung_Left', 'Lung_Right', 'Heart',...\n",
        "            'Esophagus', 'Cord', 'PBT'};\n",
        "\n",
        "for strNum = 1:length(strNameC)\n",
        "    searchStr = strNameC{strNum};\n",
        "    idx = getMatchingIndex(searchStr,structNameC,'EXACT');\n",
        "    mask3M = getStrMask(idx(end), planC);\n",
        "    maskC{strNum} = mask3M;\n",
        "end     \n",
        "\n",
        "% Get scan grid\n",
        "[xScanValsV,yScanValsV,zScanValsV] = getScanXYZVals(planC{indexS.scan}(scanNum));\n"
      ],
      "metadata": {
        "id": "uHkG4ClVzaEm"
      },
      "execution_count": 18,
      "outputs": []
    },
    {
      "cell_type": "markdown",
      "source": [
        "# Visualize results"
      ],
      "metadata": {
        "id": "APZWv-jVDVVe"
      }
    },
    {
      "cell_type": "code",
      "source": [
        "%octave_pull maskC strNameC scanArray xScanValsV yScanValsV zScanValsV"
      ],
      "metadata": {
        "id": "0mXX6iMhDdPS"
      },
      "execution_count": 19,
      "outputs": []
    },
    {
      "cell_type": "code",
      "source": [
        "import matplotlib.pyplot as plt\n",
        "import numpy as np\n",
        "from IPython.display import clear_output\n",
        "import ipywidgets as widgets\n",
        "from ipywidgets import Layout\n",
        "\n",
        "window_center = -500\n",
        "window_width = 1500\n",
        "\n",
        "extent_trans = np.min(xScanValsV), np.max(xScanValsV), np.min(yScanValsV), np.max(yScanValsV)\n",
        "extent_sag = np.min(yScanValsV), np.max(yScanValsV), np.min(zScanValsV), np.max(zScanValsV)\n",
        "extent_cor = np.min(xScanValsV), np.max(xScanValsV), np.min(zScanValsV), np.max(zScanValsV)\n",
        "\n",
        "img_siz = scanArray.shape\n",
        "clear_output(wait=True)\n",
        "\n",
        "def window_image(image, window_center, window_width):\n",
        "    img_min = window_center - window_width // 2\n",
        "    img_max = window_center + window_width // 2\n",
        "    window_image = image.copy()\n",
        "    window_image[window_image < img_min] = img_min\n",
        "    window_image[window_image > img_max] = img_max\n",
        "    \n",
        "    return window_image\n",
        "\n",
        "def rotate_image(img):\n",
        "    return(list(zip(*img)))\n",
        "\n",
        "def show_slice(slcNum, view):\n",
        "    clear_output(wait=True)\n",
        "    print(view + ' view slice ' + str(slcNum))\n",
        "    if 'fig' in locals():\n",
        "        fig.remove()\n",
        "    fig, (ax,ax_legend) = plt.subplots(1,2)\n",
        "    ax_legend.set_visible(False)\n",
        "    \n",
        "    if view.lower() == 'axial':\n",
        "        windowed_img = window_image(scanArray[: ,: ,slcNum - 1], window_center, window_width)\n",
        "        extent = extent_trans\n",
        "    elif view.lower() == 'sagittal':\n",
        "        #windowed_img = rotate_image(window_image(scanArray[40:210, slcNum + 79, :], window_center, window_width))\n",
        "        windowed_img = rotate_image(window_image(scanArray[:, slcNum - 1, :], window_center, window_width))\n",
        "        extent = extent_sag\n",
        "    elif view.lower() == 'coronal':\n",
        "        windowed_img = rotate_image(window_image(scanArray[slcNum - 1, :, :], window_center, window_width))\n",
        "        extent = extent_cor\n",
        "    else:\n",
        "        raise Exeception('Invalid view type: ' + view)\n",
        "    \n",
        "    im1 = ax.imshow(windowed_img, cmap=plt.cm.gray, alpha=1,\n",
        "                    interpolation='nearest', extent=extent)\n",
        "    \n",
        "    cmaps = [plt.cm.get_cmap(\"Oranges\").copy(),plt.cm.get_cmap(\"Oranges\").copy(), \\\n",
        "             plt.cm.get_cmap(\"Blues\").copy(),plt.cm.get_cmap(\"Blues\").copy(), \\\n",
        "             plt.cm.get_cmap(\"Purples\").copy(),plt.cm.get_cmap(\"Greens\").copy()]\n",
        "\n",
        "    if view.lower() == 'axial':\n",
        "        for maskNum in range(0,6,1):\n",
        "            mask_cmap = cmaps[maskNum]\n",
        "            mask_cmap.set_under('k', alpha=0)\n",
        "            im2 = ax.imshow(maskC[0,maskNum][:,:,slcNum-1], \n",
        "                            cmap=mask_cmap, alpha=.8, extent=extent,\n",
        "                            interpolation='none', clim=[0.5, 1])      \n",
        "            \n",
        "    elif view.lower() == 'sagittal': \n",
        "        for maskNum in range(0,6,1):\n",
        "            mask_cmap = cmaps[maskNum]\n",
        "            mask_cmap.set_under('k', alpha=0)\n",
        "            #im2 = ax.imshow(rotate_image(maskC[0,maskNum][50:200, slcNum + 79, :]),\n",
        "            #                cmap=mask_cmap, alpha=.8, extent=extent,\n",
        "            #                interpolation='none', clim=[0.5, 1])\n",
        "            im2 = ax.imshow(rotate_image(maskC[0,maskNum][:, slcNum - 1, :]),\n",
        "                            cmap=mask_cmap, alpha=.8, extent=extent,\n",
        "                            interpolation='none', clim=[0.5, 1])\n",
        "            \n",
        "    elif view.lower() == 'coronal':\n",
        "        for maskNum in range(0,6,1):\n",
        "            mask_cmap = cmaps[maskNum]\n",
        "            mask_cmap.set_under('k', alpha=0)\n",
        "            #im2 = ax.imshow(rotate_image(maskC[0,maskNum][slcNum + 60, 50:200, :]),\n",
        "            #                cmap=mask_cmap, alpha=.8, extent=extent,\n",
        "            #                interpolation='none', clim=[0.5, 1])\n",
        "            im2 = ax.imshow(rotate_image(maskC[0,maskNum][slcNum - 1, :, :]),\n",
        "                            cmap=mask_cmap, alpha=.8, extent=extent,\n",
        "                            interpolation='none', clim=[0.5, 1])\n",
        "    ax.set_xticks([])\n",
        "    ax.set_yticks([])\n",
        "    ax.set_xticklabels([])\n",
        "    ax.set_yticklabels([])\n",
        "    plt.rcParams[\"figure.figsize\"] = (10, 10)\n",
        "    plt.show()\n",
        "    \n",
        "slice_slider_axial = widgets.IntSlider(min=1,max=img_siz[2],step=1)\n",
        "outputSlc_axial = widgets.Output()\n",
        "    \n",
        "#slice_slider_sagittal = widgets.IntSlider(min=1,max=88,step=1)\n",
        "slice_slider_sagittal = widgets.IntSlider(min=1,max=img_siz[1],step=1)\n",
        "outputSlc_sagittal = widgets.Output()\n",
        "\n",
        "#slice_slider_coronal = widgets.IntSlider(min=1,max=116,step=1)\n",
        "slice_slider_coronal = widgets.IntSlider(min=1,max=img_siz[0],step=1)\n",
        "outputSlc_coronal = widgets.Output()\n",
        "\n",
        "display(slice_slider_axial, outputSlc_axial, slice_slider_sagittal, outputSlc_sagittal, slice_slider_coronal,outputSlc_coronal)\n",
        "\n",
        "def update_slice_axial(change):\n",
        "    with outputSlc_axial:\n",
        "        show_slice(change['new'], 'axial')\n",
        "\n",
        "def update_slice_sagittal(change):\n",
        "    with outputSlc_sagittal:\n",
        "        show_slice(change['new'], 'sagittal')\n",
        "        \n",
        "def update_slice_coronal(change):\n",
        "    with outputSlc_coronal:\n",
        "        show_slice(change['new'], 'coronal')\n",
        "        \n",
        "slice_slider_axial.observe(update_slice_axial, names='value')\n",
        "slice_slider_sagittal.observe(update_slice_sagittal, names='value')\n",
        "slice_slider_coronal.observe(update_slice_coronal, names='value')\n",
        "\n",
        "# Set values to display figures\n",
        "slice_slider_axial.value = round(img_siz[2]/2)\n",
        "slice_slider_sagittal.value = round(img_siz[1]/2)\n",
        "slice_slider_coronal.value = round(img_siz[0]/2)"
      ],
      "metadata": {
        "id": "JR0bOWSwvmc0"
      },
      "execution_count": null,
      "outputs": []
    }
  ]
}