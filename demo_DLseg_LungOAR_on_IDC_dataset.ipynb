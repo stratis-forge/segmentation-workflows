{
  "nbformat": 4,
  "nbformat_minor": 0,
  "metadata": {
    "colab": {
      "provenance": []
    },
    "kernelspec": {
      "name": "python3",
      "display_name": "Python 3"
    },
    "language_info": {
      "name": "python"
    },
    "accelerator": "GPU",
    "gpuClass": "standard"
  },
  "cells": [
  {
        "cell_type": "markdown",
        "metadata": {
          "id": "view-in-github"
        },
        "source": [
          "<a href=\"https://colab.research.google.com/github/stratis-forge/segmentation-workflows/blob/main/demo_DLseg_LungOAR_on_IDC_dataset.ipynb\" target=\"_parent\"><img src=\"https://colab.research.google.com/assets/colab-badge.svg\" alt=\"Open In Colab\"/></a>"
        ],
        "title": "Demo DL segmentation in IDC Lung CT",
        "authors": [{"Name": "Aditi Iyer(iyera@mskcc.org)"}]
    },
    {
      "cell_type": "markdown",
      "source": [
        "# Introduction\n",
        "In this tutorial, we will demonstrate how to apply AI segmentation models and extract radiomic features using CERR on a cohort of patients downloaded from the  [NCI's IDC](https://portal.imaging.datacommons.cancer.gov/about/) repository.\n",
        "\n",
        "This example uses lung CT scans of non-small cell lung cancer (NSCLC) patients from the [Lung1](https://wiki.cancerimagingarchive.net/display/Public/NSCLC-Radiomics) dataset.\n"
      ],
      "metadata": {
        "id": "_FNmwyUvStsB"
      }
    },
    {
      "cell_type": "markdown",
      "source": [
        "## Requirements"
      ],
      "metadata": {
        "id": "0Ipsbvj4aojp"
      }
    },
    {
      "cell_type": "markdown",
      "source": [
        "\n",
        "* GNU Octave with `statistics`, `io` & `image` packages\n",
        "* CERR\n",
        "* Python packages for visualization   \n",
        " *See [installation instructions](https://github.com/stratis-forge/installation-and-dependencies).*  \n",
        "\n",
        "\n",
        "* A Google account  \n",
        "  *Login to existing Google account or see [instructions](https://accounts.google.com/signup/v2/webcreateaccount?dsh=308321458437252901&continue=https%3A%2F%2Faccounts.google.com%2FManageAccount&flowName=GlifWebSignIn&flowEntry=SignUp#FirstName=&LastName=) to create a new account.*  \n",
        "\n",
        "\n"
      ],
      "metadata": {
        "id": "xHO8moMgaknZ"
      }
    },
    {
      "cell_type": "markdown",
      "source": [
        "## Set up a GCP BigQuery project*\n",
        "\n"
      ],
      "metadata": {
        "id": "Dqa9kjcoevez"
      }
    },
    {
      "cell_type": "markdown",
      "source": [
        "\n",
        "#### Activate GCP for your account and create a GCP project  \n",
        " \n",
        "1.  Go to https://console.cloud.google.com/, and accept Terms and conditions.\n",
        "2.  Click `Select a project` in the upper-left corner of the GCP console.\n",
        "3.  Click `Create new project`.\n",
        "4.  Open the GCP console menu icon `☰` and select `Dashboard` to view   information about your project. Copy your `Project ID` and insert it in place of `REPLACE_ME_WITH_YOUR_PROJECT_ID` in the cell below.   \n",
        "\n",
        "\n",
        "#### Add the bigquery-public-data project\n",
        "1. Open the BigQuery console: https://console.cloud.google.com/bigquery, and click the `+ ADD DATA` button.\n",
        "2. Select `Star project by name` and type in `bigquery-public-data` as the project name.\n",
        "\n",
        "**Adapted from [IDC tutorials](https://github.com/ImagingDataCommons/IDC-Tutorials/blob/master/notebooks/getting_started/part1_prerequisites.ipynb)*"
      ],
      "metadata": {
        "id": "RjFggvL5fd68"
      }
    },
    {
      "cell_type": "markdown",
      "source": [
        "## Authentication for Google services"
      ],
      "metadata": {
        "id": "y4hUygf1VLmq"
      }
    },
    {
      "cell_type": "code",
      "source": [
        "# Initialize Google Cloud Project ID\n",
        "my_ProjectID = \"REPLACE_ME_WITH_YOUR_PROJECT_ID\" #Replace with project ID \n",
        "\n",
        "import os\n",
        "os.environ[\"GCP_PROJECT_ID\"] = my_ProjectID"
      ],
      "metadata": {
        "id": "eI0dk5DDSlhQ"
      },
      "execution_count": 1,
      "outputs": []
    },
    {
      "cell_type": "code",
      "source": [
        "from google.colab import auth\n",
        "auth.authenticate_user()"
      ],
      "metadata": {
        "id": "e613RG9eWhGT"
      },
      "execution_count": 2,
      "outputs": []
    },
    {
      "cell_type": "markdown",
      "source": [
        "## Download selected cohort"
      ],
      "metadata": {
        "id": "E9EqL80GVSf5"
      }
    },
    {
      "cell_type": "markdown",
      "source": [
        "Query the `idc_current` dataset and output a dataframe with URLs for patients from the `RIDER Lung CT` dataset.   "
      ],
      "metadata": {
        "id": "TUySF22Ha_vi"
      }
    },
    {
      "cell_type": "code",
      "source": [
        "from google.cloud import bigquery\n",
        "\n",
        "bq_client = bigquery.Client(my_ProjectID) # BigQuery client is initialized with \n",
        "                                          # user-input project ID  \n",
        "\n",
        "selection_query = \"\"\"\n",
        "SELECT\n",
        "  PatientID,\n",
        "  StudyInstanceUID,\n",
        "  SeriesInstanceUID,\n",
        "  collection_id,\n",
        "  gcs_url\n",
        "FROM\n",
        "  `bigquery-public-data.idc_current.dicom_all`\n",
        "WHERE\n",
        "  Modality = \"CT\"\n",
        "  AND Collection_ID = \"nsclc_radiomics\"\n",
        "\"\"\"\n",
        "selection_result = bq_client.query(selection_query)\n",
        "cohort_df = selection_result.result().to_dataframe()\n",
        "\n",
        "#cohort_df\n",
        "display(cohort_df.info())"
      ],
      "metadata": {
        "colab": {
          "base_uri": "https://localhost:8080/",
          "height": 242
        },
        "id": "iiVl0voJDz7t",
        "outputId": "ee01e15a-bbb4-450c-bda4-b59f89ace468"
      },
      "execution_count": 3,
      "outputs": [
        {
          "output_type": "stream",
          "name": "stdout",
          "text": [
            "<class 'pandas.core.frame.DataFrame'>\n",
            "RangeIndex: 51230 entries, 0 to 51229\n",
            "Data columns (total 5 columns):\n",
            " #   Column             Non-Null Count  Dtype \n",
            "---  ------             --------------  ----- \n",
            " 0   PatientID          51230 non-null  object\n",
            " 1   StudyInstanceUID   51230 non-null  object\n",
            " 2   SeriesInstanceUID  51230 non-null  object\n",
            " 3   collection_id      51230 non-null  object\n",
            " 4   gcs_url            51230 non-null  object\n",
            "dtypes: object(5)\n",
            "memory usage: 2.0+ MB\n"
          ]
        },
        {
          "output_type": "display_data",
          "data": {
            "text/plain": [
              "None"
            ]
          },
          "metadata": {}
        }
      ]
    },
    {
      "cell_type": "markdown",
      "source": [
        "We will use CT scans of a random subset of 5 patients for this demonstration"
      ],
      "metadata": {
        "id": "0RA5AqWAej0-"
      }
    },
    {
      "cell_type": "code",
      "source": [
        "from pandas import pandas\n",
        "import random\n",
        "\n",
        "num_sample = 5\n",
        "all_patients = set(cohort_df[\"PatientID\"])\n",
        "sample_patients = random.sample(all_patients,num_sample)\n",
        "subset_df = cohort_df[cohort_df[\"PatientID\"].isin(sample_patients)]\n",
        "\n",
        "selected_df = pandas.DataFrame()\n",
        "for patient in sample_patients:\n",
        "  patient_df = subset_df[subset_df[\"PatientID\"]==patient]\n",
        "  study_uids = list(patient_df[\"StudyInstanceUID\"].unique())\n",
        "  patient_study_df = patient_df[patient_df[\"StudyInstanceUID\"]==study_uids[0]]\n",
        "  series_uids = list(patient_study_df[\"SeriesInstanceUID\"].unique())\n",
        "  patient_series_df = patient_study_df[patient_study_df[\"SeriesInstanceUID\"]==series_uids[0]]\n",
        "  patient_series_df = patient_series_df.reset_index(drop=True)\n",
        "  if patient==sample_patients[0]:\n",
        "    selected_df = patient_series_df\n",
        "  else:\n",
        "    selected_df = pandas.concat([selected_df,patient_series_df])\n",
        "\n",
        "display(selected_df)"
      ],
      "metadata": {
        "colab": {
          "base_uri": "https://localhost:8080/",
          "height": 641
        },
        "id": "elA3NgXcG1bS",
        "outputId": "b32b26db-b397-453e-ad3c-f7261568b0ca"
      },
      "execution_count": 4,
      "outputs": [
        {
          "output_type": "display_data",
          "data": {
            "text/plain": [
              "     PatientID                                   StudyInstanceUID  \\\n",
              "0    LUNG1-116  1.3.6.1.4.1.32722.99.99.2076605554376943463143...   \n",
              "1    LUNG1-116  1.3.6.1.4.1.32722.99.99.2076605554376943463143...   \n",
              "2    LUNG1-116  1.3.6.1.4.1.32722.99.99.2076605554376943463143...   \n",
              "3    LUNG1-116  1.3.6.1.4.1.32722.99.99.2076605554376943463143...   \n",
              "4    LUNG1-116  1.3.6.1.4.1.32722.99.99.2076605554376943463143...   \n",
              "..         ...                                                ...   \n",
              "96   LUNG1-156  1.3.6.1.4.1.32722.99.99.2198988529717484749637...   \n",
              "97   LUNG1-156  1.3.6.1.4.1.32722.99.99.2198988529717484749637...   \n",
              "98   LUNG1-156  1.3.6.1.4.1.32722.99.99.2198988529717484749637...   \n",
              "99   LUNG1-156  1.3.6.1.4.1.32722.99.99.2198988529717484749637...   \n",
              "100  LUNG1-156  1.3.6.1.4.1.32722.99.99.2198988529717484749637...   \n",
              "\n",
              "                                     SeriesInstanceUID    collection_id  \\\n",
              "0    1.3.6.1.4.1.32722.99.99.3292202301964767356144...  nsclc_radiomics   \n",
              "1    1.3.6.1.4.1.32722.99.99.3292202301964767356144...  nsclc_radiomics   \n",
              "2    1.3.6.1.4.1.32722.99.99.3292202301964767356144...  nsclc_radiomics   \n",
              "3    1.3.6.1.4.1.32722.99.99.3292202301964767356144...  nsclc_radiomics   \n",
              "4    1.3.6.1.4.1.32722.99.99.3292202301964767356144...  nsclc_radiomics   \n",
              "..                                                 ...              ...   \n",
              "96   1.3.6.1.4.1.32722.99.99.8159244901880428411584...  nsclc_radiomics   \n",
              "97   1.3.6.1.4.1.32722.99.99.8159244901880428411584...  nsclc_radiomics   \n",
              "98   1.3.6.1.4.1.32722.99.99.8159244901880428411584...  nsclc_radiomics   \n",
              "99   1.3.6.1.4.1.32722.99.99.8159244901880428411584...  nsclc_radiomics   \n",
              "100  1.3.6.1.4.1.32722.99.99.8159244901880428411584...  nsclc_radiomics   \n",
              "\n",
              "                                               gcs_url  \n",
              "0    gs://idc-open-cr/9c3e6b91-9a9f-4488-aa90-785fb...  \n",
              "1    gs://idc-open-cr/d83c8990-ee94-49ec-8baf-7549b...  \n",
              "2    gs://idc-open-cr/13e260ab-5877-46f9-8bbb-bb266...  \n",
              "3    gs://idc-open-cr/4fe72045-b47b-46b2-a561-837a3...  \n",
              "4    gs://idc-open-cr/4ad5bcf9-a8a8-4a27-9d18-bc90f...  \n",
              "..                                                 ...  \n",
              "96   gs://idc-open-cr/9cac49ed-ef03-4fef-add2-e1e68...  \n",
              "97   gs://idc-open-cr/328b6fe6-b76d-452f-ac64-47816...  \n",
              "98   gs://idc-open-cr/5658e981-7b57-41f3-abb3-85984...  \n",
              "99   gs://idc-open-cr/5431e63a-a6c0-4084-9109-e8b2f...  \n",
              "100  gs://idc-open-cr/d355c034-c15b-44d4-a9de-dfe1c...  \n",
              "\n",
              "[642 rows x 5 columns]"
            ],
            "text/html": [
              "\n",
              "  <div id=\"df-91958695-9467-477f-819e-0b24338669d5\">\n",
              "    <div class=\"colab-df-container\">\n",
              "      <div>\n",
              "<style scoped>\n",
              "    .dataframe tbody tr th:only-of-type {\n",
              "        vertical-align: middle;\n",
              "    }\n",
              "\n",
              "    .dataframe tbody tr th {\n",
              "        vertical-align: top;\n",
              "    }\n",
              "\n",
              "    .dataframe thead th {\n",
              "        text-align: right;\n",
              "    }\n",
              "</style>\n",
              "<table border=\"1\" class=\"dataframe\">\n",
              "  <thead>\n",
              "    <tr style=\"text-align: right;\">\n",
              "      <th></th>\n",
              "      <th>PatientID</th>\n",
              "      <th>StudyInstanceUID</th>\n",
              "      <th>SeriesInstanceUID</th>\n",
              "      <th>collection_id</th>\n",
              "      <th>gcs_url</th>\n",
              "    </tr>\n",
              "  </thead>\n",
              "  <tbody>\n",
              "    <tr>\n",
              "      <th>0</th>\n",
              "      <td>LUNG1-116</td>\n",
              "      <td>1.3.6.1.4.1.32722.99.99.2076605554376943463143...</td>\n",
              "      <td>1.3.6.1.4.1.32722.99.99.3292202301964767356144...</td>\n",
              "      <td>nsclc_radiomics</td>\n",
              "      <td>gs://idc-open-cr/9c3e6b91-9a9f-4488-aa90-785fb...</td>\n",
              "    </tr>\n",
              "    <tr>\n",
              "      <th>1</th>\n",
              "      <td>LUNG1-116</td>\n",
              "      <td>1.3.6.1.4.1.32722.99.99.2076605554376943463143...</td>\n",
              "      <td>1.3.6.1.4.1.32722.99.99.3292202301964767356144...</td>\n",
              "      <td>nsclc_radiomics</td>\n",
              "      <td>gs://idc-open-cr/d83c8990-ee94-49ec-8baf-7549b...</td>\n",
              "    </tr>\n",
              "    <tr>\n",
              "      <th>2</th>\n",
              "      <td>LUNG1-116</td>\n",
              "      <td>1.3.6.1.4.1.32722.99.99.2076605554376943463143...</td>\n",
              "      <td>1.3.6.1.4.1.32722.99.99.3292202301964767356144...</td>\n",
              "      <td>nsclc_radiomics</td>\n",
              "      <td>gs://idc-open-cr/13e260ab-5877-46f9-8bbb-bb266...</td>\n",
              "    </tr>\n",
              "    <tr>\n",
              "      <th>3</th>\n",
              "      <td>LUNG1-116</td>\n",
              "      <td>1.3.6.1.4.1.32722.99.99.2076605554376943463143...</td>\n",
              "      <td>1.3.6.1.4.1.32722.99.99.3292202301964767356144...</td>\n",
              "      <td>nsclc_radiomics</td>\n",
              "      <td>gs://idc-open-cr/4fe72045-b47b-46b2-a561-837a3...</td>\n",
              "    </tr>\n",
              "    <tr>\n",
              "      <th>4</th>\n",
              "      <td>LUNG1-116</td>\n",
              "      <td>1.3.6.1.4.1.32722.99.99.2076605554376943463143...</td>\n",
              "      <td>1.3.6.1.4.1.32722.99.99.3292202301964767356144...</td>\n",
              "      <td>nsclc_radiomics</td>\n",
              "      <td>gs://idc-open-cr/4ad5bcf9-a8a8-4a27-9d18-bc90f...</td>\n",
              "    </tr>\n",
              "    <tr>\n",
              "      <th>...</th>\n",
              "      <td>...</td>\n",
              "      <td>...</td>\n",
              "      <td>...</td>\n",
              "      <td>...</td>\n",
              "      <td>...</td>\n",
              "    </tr>\n",
              "    <tr>\n",
              "      <th>96</th>\n",
              "      <td>LUNG1-156</td>\n",
              "      <td>1.3.6.1.4.1.32722.99.99.2198988529717484749637...</td>\n",
              "      <td>1.3.6.1.4.1.32722.99.99.8159244901880428411584...</td>\n",
              "      <td>nsclc_radiomics</td>\n",
              "      <td>gs://idc-open-cr/9cac49ed-ef03-4fef-add2-e1e68...</td>\n",
              "    </tr>\n",
              "    <tr>\n",
              "      <th>97</th>\n",
              "      <td>LUNG1-156</td>\n",
              "      <td>1.3.6.1.4.1.32722.99.99.2198988529717484749637...</td>\n",
              "      <td>1.3.6.1.4.1.32722.99.99.8159244901880428411584...</td>\n",
              "      <td>nsclc_radiomics</td>\n",
              "      <td>gs://idc-open-cr/328b6fe6-b76d-452f-ac64-47816...</td>\n",
              "    </tr>\n",
              "    <tr>\n",
              "      <th>98</th>\n",
              "      <td>LUNG1-156</td>\n",
              "      <td>1.3.6.1.4.1.32722.99.99.2198988529717484749637...</td>\n",
              "      <td>1.3.6.1.4.1.32722.99.99.8159244901880428411584...</td>\n",
              "      <td>nsclc_radiomics</td>\n",
              "      <td>gs://idc-open-cr/5658e981-7b57-41f3-abb3-85984...</td>\n",
              "    </tr>\n",
              "    <tr>\n",
              "      <th>99</th>\n",
              "      <td>LUNG1-156</td>\n",
              "      <td>1.3.6.1.4.1.32722.99.99.2198988529717484749637...</td>\n",
              "      <td>1.3.6.1.4.1.32722.99.99.8159244901880428411584...</td>\n",
              "      <td>nsclc_radiomics</td>\n",
              "      <td>gs://idc-open-cr/5431e63a-a6c0-4084-9109-e8b2f...</td>\n",
              "    </tr>\n",
              "    <tr>\n",
              "      <th>100</th>\n",
              "      <td>LUNG1-156</td>\n",
              "      <td>1.3.6.1.4.1.32722.99.99.2198988529717484749637...</td>\n",
              "      <td>1.3.6.1.4.1.32722.99.99.8159244901880428411584...</td>\n",
              "      <td>nsclc_radiomics</td>\n",
              "      <td>gs://idc-open-cr/d355c034-c15b-44d4-a9de-dfe1c...</td>\n",
              "    </tr>\n",
              "  </tbody>\n",
              "</table>\n",
              "<p>642 rows × 5 columns</p>\n",
              "</div>\n",
              "      <button class=\"colab-df-convert\" onclick=\"convertToInteractive('df-91958695-9467-477f-819e-0b24338669d5')\"\n",
              "              title=\"Convert this dataframe to an interactive table.\"\n",
              "              style=\"display:none;\">\n",
              "        \n",
              "  <svg xmlns=\"http://www.w3.org/2000/svg\" height=\"24px\"viewBox=\"0 0 24 24\"\n",
              "       width=\"24px\">\n",
              "    <path d=\"M0 0h24v24H0V0z\" fill=\"none\"/>\n",
              "    <path d=\"M18.56 5.44l.94 2.06.94-2.06 2.06-.94-2.06-.94-.94-2.06-.94 2.06-2.06.94zm-11 1L8.5 8.5l.94-2.06 2.06-.94-2.06-.94L8.5 2.5l-.94 2.06-2.06.94zm10 10l.94 2.06.94-2.06 2.06-.94-2.06-.94-.94-2.06-.94 2.06-2.06.94z\"/><path d=\"M17.41 7.96l-1.37-1.37c-.4-.4-.92-.59-1.43-.59-.52 0-1.04.2-1.43.59L10.3 9.45l-7.72 7.72c-.78.78-.78 2.05 0 2.83L4 21.41c.39.39.9.59 1.41.59.51 0 1.02-.2 1.41-.59l7.78-7.78 2.81-2.81c.8-.78.8-2.07 0-2.86zM5.41 20L4 18.59l7.72-7.72 1.47 1.35L5.41 20z\"/>\n",
              "  </svg>\n",
              "      </button>\n",
              "      \n",
              "  <style>\n",
              "    .colab-df-container {\n",
              "      display:flex;\n",
              "      flex-wrap:wrap;\n",
              "      gap: 12px;\n",
              "    }\n",
              "\n",
              "    .colab-df-convert {\n",
              "      background-color: #E8F0FE;\n",
              "      border: none;\n",
              "      border-radius: 50%;\n",
              "      cursor: pointer;\n",
              "      display: none;\n",
              "      fill: #1967D2;\n",
              "      height: 32px;\n",
              "      padding: 0 0 0 0;\n",
              "      width: 32px;\n",
              "    }\n",
              "\n",
              "    .colab-df-convert:hover {\n",
              "      background-color: #E2EBFA;\n",
              "      box-shadow: 0px 1px 2px rgba(60, 64, 67, 0.3), 0px 1px 3px 1px rgba(60, 64, 67, 0.15);\n",
              "      fill: #174EA6;\n",
              "    }\n",
              "\n",
              "    [theme=dark] .colab-df-convert {\n",
              "      background-color: #3B4455;\n",
              "      fill: #D2E3FC;\n",
              "    }\n",
              "\n",
              "    [theme=dark] .colab-df-convert:hover {\n",
              "      background-color: #434B5C;\n",
              "      box-shadow: 0px 1px 3px 1px rgba(0, 0, 0, 0.15);\n",
              "      filter: drop-shadow(0px 1px 2px rgba(0, 0, 0, 0.3));\n",
              "      fill: #FFFFFF;\n",
              "    }\n",
              "  </style>\n",
              "\n",
              "      <script>\n",
              "        const buttonEl =\n",
              "          document.querySelector('#df-91958695-9467-477f-819e-0b24338669d5 button.colab-df-convert');\n",
              "        buttonEl.style.display =\n",
              "          google.colab.kernel.accessAllowed ? 'block' : 'none';\n",
              "\n",
              "        async function convertToInteractive(key) {\n",
              "          const element = document.querySelector('#df-91958695-9467-477f-819e-0b24338669d5');\n",
              "          const dataTable =\n",
              "            await google.colab.kernel.invokeFunction('convertToInteractive',\n",
              "                                                     [key], {});\n",
              "          if (!dataTable) return;\n",
              "\n",
              "          const docLinkHtml = 'Like what you see? Visit the ' +\n",
              "            '<a target=\"_blank\" href=https://colab.research.google.com/notebooks/data_table.ipynb>data table notebook</a>'\n",
              "            + ' to learn more about interactive tables.';\n",
              "          element.innerHTML = '';\n",
              "          dataTable['output_type'] = 'display_data';\n",
              "          await google.colab.output.renderOutput(dataTable, element);\n",
              "          const docLink = document.createElement('div');\n",
              "          docLink.innerHTML = docLinkHtml;\n",
              "          element.appendChild(docLink);\n",
              "        }\n",
              "      </script>\n",
              "    </div>\n",
              "  </div>\n",
              "  "
            ]
          },
          "metadata": {}
        }
      ]
    },
    {
      "cell_type": "markdown",
      "source": [
        "Save URLs into a manifest file for download using `gsutil` from the Google Cloud SDK*. \n",
        "\n",
        "*Note: Google Cloud SDK is pre-installed on Colab, but will need to be installed if downloading directly to your computer.* "
      ],
      "metadata": {
        "id": "jYsDNhEtbmJl"
      }
    },
    {
      "cell_type": "code",
      "source": [
        "%%capture\n",
        "#Save URLs to manifest file\n",
        "selected_df[\"gcs_url\"].to_csv(\"manifest.txt\", header=False, index=False)\n",
        "\n",
        "#Download images to /content/downloaded_cohort_files\n",
        "!rm -rf downloaded_cohort_files && mkdir downloaded_cohort_files\n",
        "!cat manifest.txt | gsutil -m cp -I downloaded_cohort_files"
      ],
      "metadata": {
        "id": "rjTYRU4nZT7c"
      },
      "execution_count": 5,
      "outputs": []
    },
    {
      "cell_type": "markdown",
      "source": [
        "## Install *DICOMSort* to organize downloaded data\n",
        "\n"
      ],
      "metadata": {
        "id": "lNhkCVb1q1pa"
      }
    },
    {
      "cell_type": "code",
      "source": [
        "%%capture\n",
        "!git clone https://github.com/pieper/dicomsort src/dicomsort\n",
        "!pip install -r /content/src/dicomsort/requirements.txt"
      ],
      "metadata": {
        "id": "faSwzPkdqw0i"
      },
      "execution_count": 6,
      "outputs": []
    },
    {
      "cell_type": "markdown",
      "source": [
        "Organize DICOM files by patient ID and modality"
      ],
      "metadata": {
        "id": "egascq-9pwYl"
      }
    },
    {
      "cell_type": "code",
      "source": [
        "%%capture\n",
        "# Run  DICOMSort \n",
        "!python src/dicomsort/dicomsort.py -u /content/downloaded_cohort_files/ /content/organized_cohort_files/dicom/%PatientID/%SOPInstanceUID.dcm\n",
        "\n",
        "# Delete temporary directory for unsorted DICOM data \n",
        "!rm -rf /content/downloaded_cohort_files/"
      ],
      "metadata": {
        "id": "W5DkBwl2pjOX"
      },
      "execution_count": 7,
      "outputs": []
    },
    {
      "cell_type": "markdown",
      "source": [
        "## Load Oct2Py and required Octave packages"
      ],
      "metadata": {
        "id": "askRbVQPt0Of"
      }
    },
    {
      "cell_type": "code",
      "source": [
        "%load_ext oct2py.ipython\n",
        "from oct2py import octave"
      ],
      "metadata": {
        "id": "uOw1pMkCtjjZ"
      },
      "execution_count": 8,
      "outputs": []
    },
    {
      "cell_type": "code",
      "source": [
        "%%capture\n",
        "%%octave\n",
        "pkg load statistics\n",
        "pkg load image\n",
        "pkg load io"
      ],
      "metadata": {
        "id": "rrGtCbhftvgJ"
      },
      "execution_count": 9,
      "outputs": []
    },
    {
      "cell_type": "markdown",
      "source": [
        "## Download and unpack pretrained model"
      ],
      "metadata": {
        "id": "bRkLuknk1NMO"
      }
    },
    {
      "cell_type": "code",
      "source": [
        "%%capture\n",
        "model_loc = 'https://mskcc.box.com/shared/static/31hktq1f59htjquirmvn1wk4gsdfq32k.gz'\n",
        "model_dir = '/content/pretrained_model'\n",
        "file_name = 'CT_LungOAR_incrMRRN.tar.gz'\n",
        "model_file = model_dir + '/' + file_name\n",
        " \n",
        "!mkdir $model_dir\n",
        "!wget $model_loc -O $model_file\n",
        "!tar -xvzf $model_file -C $model_dir"
      ],
      "metadata": {
        "id": "PvHKKqQY1RmV"
      },
      "execution_count": 10,
      "outputs": []
    },
    {
      "cell_type": "markdown",
      "source": [
        "## Import data to CERR"
      ],
      "metadata": {
        "id": "mKyPd0L8df0f"
      }
    },
    {
      "cell_type": "code",
      "source": [
        "%%capture\n",
        "%%octave\n",
        "#Add CERR to path\n",
        "curr_dir = pwd()\n",
        "cd('/content/CERR')\n",
        "addToPath2(pwd)\n",
        "cd(curr_dir)"
      ],
      "metadata": {
        "id": "CLqUtmD_wMu0"
      },
      "execution_count": 11,
      "outputs": []
    },
    {
      "cell_type": "code",
      "source": [
        "%%capture\n",
        "%%octave\n",
        "sourceDir = '/content/organized_cohort_files/dicom'  \n",
        "destDir = '/content/organized_cohort_files/cerr/'  \n",
        "zipFlag = 'No';\n",
        "mergeFlag = 'No';\n",
        "singleCerrFileFlag = 'No';\n",
        "init_ML_DICOM;\n",
        "batchConvertWithSubDirs(sourceDir,destDir,zipFlag,mergeFlag,singleCerrFileFlag)"
      ],
      "metadata": {
        "id": "oGgjrQKxf_Zw"
      },
      "execution_count": 12,
      "outputs": []
    },
    {
      "cell_type": "markdown",
      "source": [
        "# Run segmentation model"
      ],
      "metadata": {
        "id": "W0wDeXAm0Mj3"
      }
    },
    {
      "cell_type": "code",
      "source": [
        "%%capture\n",
        "%%octave\n",
        "\n",
        "#Run segmentation model\n",
        "src_dir = '/content/organized_cohort_files/cerr';\n",
        "cerr_dir = '/content/seg_results/cerr';\n",
        "output_dir = '/content/seg_results/dcm';\n",
        "session_dir = '/content/tmp';\n",
        "cmd_flag = 'condaEnv';\n",
        "new_session = true;\n",
        "\n",
        "mkdir(cerr_dir)\n",
        "mkdir(session_dir)\n",
        "mkdir(output_dir)\n",
        "\n",
        "algorithm = 'CT_LungOAR_incrMRRN';\n",
        "model_dir = '/content/pretrained_model/CT_LungOAR_incrMRRN';\n",
        "\n",
        "#Loop over CERR files\n",
        "dirS = dir([src_dir,filesep,'*.mat']);\n",
        "origScanNumV = nan(1,length(dirS));\n",
        "\n",
        "for nFile = 1:length(dirS)\n",
        "\n",
        "  # Load file\n",
        "  fileName = fullfile(src_dir,dirS(nFile).name);\n",
        "  planC = loadPlanC(fileName,tempdir);\n",
        "  planC = updatePlanFields(planC);\n",
        "  planC = quality_assure_planC(fileName,planC);\n",
        "\n",
        "  #Run AI model\n",
        "  [planC,origScanNum,allLabelNamesC,dcmExportOptS] = runAIforPlanC(planC,...\n",
        "   session_dir,algorithm,cmd_flag,new_session,[],[],model_dir);\n",
        "\n",
        "  origScanNumV(nFile) = origScanNum;\n",
        "  out_path = fullfile(cerr_dir,dirS(nFile).name);\n",
        "\n",
        "  #Save segmentation to CERR archive\n",
        "  save_planC(planC,[],'PASSED',out_path);\n",
        "end\n",
        "\n",
        "#Export segmentations to DICOM\n",
        "batchExportAISegToDICOM(cerr_dir,origScanNumV,allLabelNamesC,'',output_dir,...\n",
        "                        dcmExportOptS,'no');"
      ],
      "metadata": {
        "id": "Hrh4KeOg0JaF"
      },
      "execution_count": 13,
      "outputs": []
    },
    {
      "cell_type": "markdown",
      "source": [
        "## Extract segmentation masks"
      ],
      "metadata": {
        "id": "v2EMyf-Fy1w1"
      }
    },
    {
      "cell_type": "code",
      "source": [
        "%%capture\n",
        "%%octave\n",
        "\n",
        "%Load sample result\n",
        "out_path = fullfile(cerr_dir,dirS(1).name)\n",
        "planC = loadPlanC(out_path,tempdir);\n",
        "planC = updatePlanFields(planC);\n",
        "planC = quality_assure_planC(out_path,planC);\n",
        "\n",
        "%Get scan array\n",
        "indexS = planC{end};\n",
        "scanNum = 1;\n",
        "ctOffset = planC{indexS.scan}(scanNum).scanInfo(1).CTOffset;\n",
        "scanArray = single(getScanArray(scanNum,planC)) - ctOffset;\n",
        "\n",
        "%Get structure labels & masks\n",
        "numStructs = length(planC{indexS.structures});\n",
        "structNameC = {planC{indexS.structures}.structureName};\n",
        "strNameC = {'Lung_Left', 'Lung_Right', 'Heart',...\n",
        "            'Esophagus', 'Cord', 'PBT'};\n",
        "\n",
        "for strNum = 1:length(strNameC)\n",
        "    searchStr = strNameC{strNum};\n",
        "    idx = getMatchingIndex(searchStr,structNameC,'EXACT');\n",
        "    mask3M = getStrMask(idx, planC);\n",
        "    maskC{strNum} = mask3M;\n",
        "end     "
      ],
      "metadata": {
        "id": "uHkG4ClVzaEm"
      },
      "execution_count": 14,
      "outputs": []
    },
    {
      "cell_type": "markdown",
      "source": [
        "## Visualize results"
      ],
      "metadata": {
        "id": "APZWv-jVDVVe"
      }
    },
    {
      "cell_type": "code",
      "source": [
        "%octave_pull maskC strNameC scanArray"
      ],
      "metadata": {
        "id": "0mXX6iMhDdPS"
      },
      "execution_count": 15,
      "outputs": []
    },
    {
      "cell_type": "code",
      "source": [
        "import matplotlib.pyplot as plt\n",
        "import numpy as np\n",
        "from IPython.display import clear_output\n",
        "import ipywidgets as widgets\n",
        "\n",
        "dx, dy = 1, 1\n",
        "\n",
        "x = np.arange(0, 255, dx)\n",
        "y = np.arange(0, 255, dy)\n",
        "extent = np.min(x), np.max(x), np.min(y), np.max(y)\n",
        "\n",
        "cmaps = [plt.cm.Oranges,plt.cm.Oranges,plt.cm.Blues, \\\n",
        "             plt.cm.Purples,plt.cm.Greens,plt.cm.Reds]\n",
        "\n",
        "clear_output(wait=True)\n",
        "\n",
        "def window_image(image, window_center, window_width):\n",
        "    img_min = window_center - window_width // 2\n",
        "    img_max = window_center + window_width // 2\n",
        "    window_image = image.copy()\n",
        "    window_image[window_image < img_min] = img_min\n",
        "    window_image[window_image > img_max] = img_max\n",
        "    \n",
        "    return window_image\n"
      ],
      "metadata": {
        "id": "ri-LLDwXDQfr"
      },
      "execution_count": 16,
      "outputs": []
    },
    {
      "cell_type": "code",
      "source": [
        "# Plot center slice\n",
        "scanSize = np.shape(scanArray)\n",
        "centerSlc = np.round(scanSize[2]/2).astype(int)\n",
        "\n",
        "window_center = 40\n",
        "window_width = 400\n",
        "fig, ax = plt.subplots(1,1,figsize=(10,10))\n",
        "\n",
        "windowed_img = window_image(scanArray[:,:,centerSlc],\n",
        "                                window_center,window_width)\n",
        "ax.imshow(windowed_img, cmap=plt.cm.gray, alpha=1,\n",
        "                    interpolation='nearest', extent=extent)\n",
        "ax.title.set_text('Auto-segmented structures on slice ' + str(centerSlc))\n",
        "fontdict = {'fontsize' : 100}\n",
        "\n",
        "for maskNum in range(0,6,1):\n",
        "        mask_cmap = cmaps[maskNum].copy()\n",
        "        mask_cmap.set_under('k', alpha=0)\n",
        "        im2 = ax.imshow(maskC[0,maskNum][:,:,centerSlc-1], \n",
        "                        cmap=mask_cmap, alpha=.8, extent=extent,\n",
        "                        interpolation='none', clim=[0.5, 1])   \n"
      ],
      "metadata": {
        "colab": {
          "base_uri": "https://localhost:8080/",
          "height": 606
        },
        "id": "0zULXfn1DjHy",
        "outputId": "ab1c52f3-91ac-4397-aa3f-eff5519badd7"
      },
      "execution_count": 17,
      "outputs": [
        {
          "output_type": "display_data",
          "data": {
            "text/plain": [
              "<Figure size 720x720 with 1 Axes>"
            ],
            "image/png": "[encoded data removed]"
          },
          "metadata": {
            "needs_background": "light"
          }
        }
      ]
    }
  ]
}
