{
 "cells": [
  {
   "cell_type": "markdown",
   "metadata": {
    "id": "view-in-github"
   },
   "source": [
    "<a href=\"https://colab.research.google.com/github/stratis-forge/segmentation-workflows/blob/main/demo_DLseg_swallowing_and_chewing_structures.ipynb\" target=\"_parent\"><img src=\"https://colab.research.google.com/assets/colab-badge.svg\" alt=\"Open In Colab\"/></a>"
   ]
  },
  {
   "cell_type": "markdown",
   "metadata": {
    "id": "yu88yJaKGk3m"
   },
   "source": [
    "#  Deep learning-based segmentation of Swallowing and Chewing structures in H&N CT scans\n",
    "\n",
    "\n"
   ]
  },
  {
   "cell_type": "markdown",
   "metadata": {
    "id": "IZXYg6ttMYEv"
   },
   "source": [
    "## Introduction\n",
    "This notebook demonstrates the application of a Convolution Neural Network model to segment the following swallowing and chewing structures in H&N CT scans. \n",
    "\n",
    "*   Masseters (left, right)\n",
    "*   Medial pterygoid (left, right)\n",
    "*   Larynx_DLabV3\n",
    "*   Constrictor muscle  \n",
    "\n",
    "#### *Reference*\n",
    "Model details are available in Iyer, A, et al. \"Prospectively-validated deep learning model for segmenting swallowing and chewing structures in CT\" in *Physics in Medicine & Biology* (2021). DOI:[10.1088/1361-6560/ac4000](https://doi.org/10.1088/1361-6560/ac4000).\n",
    "\n",
    "---"
   ]
  },
  {
   "cell_type": "markdown",
   "metadata": {
    "id": "cKD0MQgFMgiJ"
   },
   "source": [
    "## Requirements\n",
    "* GNU Octave with `image`, `statistics`, and `io` packages\n",
    "* Oct2Py\n",
    "* [CERR](https://github.com/cerr/CERR)\n",
    "* [Pre-trained segmentation models](https://github.com/cerr/CT_SwallowingAndChewing_DeepLabV3/releases)\n",
    "* Python with `matplotlib`, `numpy`, and `ipywidgets` packages\n",
    "\n",
    "*Note*: Installing these tools may incur a one-time extra runtime overhead.\n",
    "\n"
   ]
  },
  {
   "cell_type": "markdown",
   "metadata": {
    "id": "PKtudRTeNeCy"
   },
   "source": [
    "##I/O\n",
    "\n",
    "In this example, we use sample images in CERR's native planC format (imported from DICOM) to delineate the swallowing and chewing structures. Segmentation masks are output to Octave matrix and numpy formats."
   ]
  },
  {
   "cell_type": "markdown",
   "metadata": {
    "id": "i98mMNXGWnGg"
   },
   "source": [
    "## Results\n",
    "\n",
    "This notebook comes with a static visualization of a sample filter output. A second interactive display section is additionally made available on running the notebook.\n",
    "\n",
    "---"
   ]
  },
  {
   "cell_type": "markdown",
   "metadata": {
    "id": "aHsv1Npn-kit"
   },
   "source": [
    "# Install dependencies \n",
    "Uncomment (`Ctrl+/`) the following sections to install (1) Octave with required packages (2) Oct2py and (3) CERR.\n"
   ]
  },
  {
   "cell_type": "markdown",
   "metadata": {
    "id": "Kdg3QIMNAkDY"
   },
   "source": [
    "### Download latest Octave compile"
   ]
  },
  {
   "cell_type": "code",
   "execution_count": 1,
   "metadata": {
    "id": "VFcgh7oO8Er6"
   },
   "outputs": [],
   "source": [
    "%%capture\n",
    "! apt-get update\n",
    "! cd /usr/lib/x86_64-linux-gnu/ && ln -s libhdf5_serial.so.103 libhdf5_serial.so.100 && ln -s libreadline.so.8 libreadline.so.7\n",
    "! apt-get install libgraphicsmagick++-q16-12 libcholmod3 libcxsparse3 \\\n",
    "libumfpack5 libspqr2 libqrupdate1 libfftw3-3 libgfortran4 gnuplot openjdk-8-jdk\n",
    "\n",
    "import os, urllib.request, json\n",
    "\n",
    "# Download latest compiled octave package \n",
    "def get_octave(root_path):\n",
    "  os.chdir(root_path)\n",
    "  with urllib.request.urlopen(\"https://api.github.com/repos/cerr/octave-colab/releases/latest\") as url:\n",
    "      data = json.loads(url.read().decode())\n",
    "  fname = data['assets'][0]['name']\n",
    "  requrl = data['assets'][0]['browser_download_url']\n",
    "  urllib.request.urlretrieve(requrl, fname)\n",
    "  # Unzip, identify octave folder name\n",
    "  !tar xf {fname}\n",
    "  top_folder = !tar tf {fname} | head -1\n",
    "  !rm {fname}\n",
    "  octave_folder = top_folder[0][:-1]\n",
    "  octave_path = os.path.join(root_path,octave_folder)\n",
    "  return octave_path\n",
    "\n",
    "# Set path to Octave exectuable\n",
    "octave_path = get_octave('/content')\n",
    "os.environ['OCTAVE_EXECUTABLE'] = octave_path + '/bin/octave-cli'\n",
    "os.environ['PATH'] = octave_path + '/bin:' + os.environ['PATH']\n",
    "\n",
    "! cd /usr/lib/x86_64-linux-gnu/ && ln -s libhdf5_serial.so.103 libhdf5_serial.so.100 \\\n",
    "&& ln -s libreadline.so.8 libreadline.so.7\n",
    "\n",
    "! pip3 install octave_kernel\n",
    "! pip3 install oct2py==5.6.0\n",
    "\n"
   ]
  },
  {
   "cell_type": "code",
   "execution_count": 3,
   "metadata": {
    "id": "F6FnAolTATvD"
   },
   "outputs": [],
   "source": [
    "# Set path to Octave exectuable\n",
    "# import os, urllib.request, json\n",
    "# octave_path = get_octave('/content')\n",
    "os.environ['OCTAVE_EXECUTABLE'] = octave_path + '/bin/octave-cli'  #Replace with OCTAVE_EXECUTABLE path\n",
    "os.environ['PATH'] = octave_path + '/bin:' + os.environ['PATH']    #Replace with Octave path"
   ]
  },
  {
   "cell_type": "markdown",
   "metadata": {
    "id": "B6QfdhCTVW2-"
   },
   "source": [
    "###  Install Python-Octave bridge"
   ]
  },
  {
   "cell_type": "code",
   "execution_count": 4,
   "metadata": {
    "id": "eek7w41_VI8x"
   },
   "outputs": [],
   "source": [
    "# %%capture\n",
    "# ! pip3 install octave_kernel\n",
    "# ! pip3 install oct2py==5.3.0"
   ]
  },
  {
   "cell_type": "markdown",
   "metadata": {
    "id": "hCxab5j9Y3hv"
   },
   "source": [
    "### Download CERR"
   ]
  },
  {
   "cell_type": "code",
   "execution_count": 5,
   "metadata": {
    "id": "1ldWZbWfY8U-"
   },
   "outputs": [],
   "source": [
    "# %%capture\n",
    "# import os\n",
    "# !git clone --single-branch --branch octave_dev https://www.github.com/cerr/CERR.git\n",
    "# currDir = os.getcwd()\n",
    "# os.chdir(\"/content/CERR\")\n",
    "# !git checkout c2b65179da40622bc7b095f679edd17f5ebc681e\n",
    "# os.chdir(currDir)"
   ]
  },
  {
   "cell_type": "markdown",
   "metadata": {
    "id": "s9_Tz42ZAzIC"
   },
   "source": [
    "# DL-based image segmentation"
   ]
  },
  {
   "cell_type": "markdown",
   "metadata": {
    "id": "G_N4Prl__MbP"
   },
   "source": [
    "### Download pretrained models\n",
    "Comment out `(Ctrl + \\)` the following cell if pretrained models were downloaded previously."
   ]
  },
  {
   "cell_type": "code",
   "execution_count": 6,
   "metadata": {
    "id": "RQAA6zsn8KqU"
   },
   "outputs": [],
   "source": [
    "%%capture\n",
    "%%bash\n",
    "LOCATION=$(curl -s https://api.github.com/repos/aditiiyer/CT_SwallowingAndChewing_DeepLabV3/tags \\\n",
    "| grep \"name\"| grep \"linux\" \\\n",
    "| awk '{print \"https://github.com/aditiiyer/CT_SwallowingAndChewing_DeepLabV3/archive/refs/tags/\" substr($2, 2, length($2)-3) \".zip\"}');\n",
    "\n",
    "LOCARRAY=($LOCATION)\n",
    "echo $LOCARRAY\n",
    "curl -L -o swallowChewSeg.zip ${LOCARRAY[0]}\n",
    "!unzip /content/swallowChewSeg.zip -d /content/pretrained"
   ]
  },
  {
   "cell_type": "markdown",
   "metadata": {
    "id": "y1K4KOqmBD0t"
   },
   "source": [
    "### Load Octave packages"
   ]
  },
  {
   "cell_type": "code",
   "execution_count": 7,
   "metadata": {
    "id": "3hWeKhugBJ2A"
   },
   "outputs": [],
   "source": [
    "%load_ext oct2py.ipython\n",
    "from oct2py import octave"
   ]
  },
  {
   "cell_type": "code",
   "execution_count": 8,
   "metadata": {
    "id": "cBxxl1IaBBb3"
   },
   "outputs": [],
   "source": [
    "%%capture\n",
    "%%octave\n",
    "pkg load statistics\n",
    "pkg load image\n",
    "pkg load io"
   ]
  },
  {
   "cell_type": "markdown",
   "metadata": {
    "id": "6KC8NMZdE4A6"
   },
   "source": [
    "### Apply segmentation models to sample data"
   ]
  },
  {
   "cell_type": "code",
   "execution_count": 9,
   "metadata": {
    "id": "pD9QPBhsE1eM"
   },
   "outputs": [],
   "source": [
    "%%capture\n",
    "%%octave\n",
    "\n",
    "# Add CERR to path\n",
    "cerrPath = '/content/CERR'                    # Replace with path to CERR\n",
    "currDir = pwd;\n",
    "cd(cerrPath)\n",
    "addToPath2(cerrPath)\n",
    "cd(currDir)\n",
    "\n",
    "# Provide path to conda archive\n",
    "condaParDir = '/content/pretrained/';\n",
    "dirS = dir(condaParDir);\n",
    "condaEnvName = [condaParDir, dirS(3).name]    # Replace with path to conda archive \n",
    "\n",
    "## Load sample data\n",
    "sampleData = ['/content/CERR/Unit_Testing/data_for_cerr_tests/',...\n",
    "              'CERR_plans/head_neck_ex1_20may03.mat.bz2'];\n",
    "\n",
    "planC = loadPlanC(sampleData, tempdir);\n",
    "planC = updatePlanFields(planC);\n",
    "planC = quality_assure_planC(sampleData, planC);"
   ]
  },
  {
   "cell_type": "code",
   "execution_count": 10,
   "metadata": {
    "id": "EL_uLxp2Q35M"
   },
   "outputs": [],
   "source": [
    "%%octave\n",
    "## Apply auto-segmentation models\n",
    "algorithm = ['CT_ChewingStructures_DeepLabV3^CT_Larynx_DeepLabV3^',...\n",
    "            'CT_PharyngealConstrictor_DeepLabV3']\n",
    "sessionPath = '/content/temp/'\n",
    "cmdFlag = 'condaEnv'\n",
    "newSessionFlag = 1\n",
    "\n",
    "planC = runAIforPlanC(planC,sessionPath,algorithm,cmdFlag,...\n",
    "    newSessionFlag,[],[],condaEnvName);"
   ]
  },
  {
   "cell_type": "markdown",
   "metadata": {
    "id": "HJy4HLmBZOjQ"
   },
   "source": [
    "## Get segmentation masks"
   ]
  },
  {
   "cell_type": "code",
   "execution_count": 11,
   "metadata": {
    "id": "GVml6zI9QRgb"
   },
   "outputs": [],
   "source": [
    "%%octave\n",
    "\n",
    "addpath(genpath('/content/CERR'))\n",
    "\n",
    "%Get scan array\n",
    "indexS = planC{end};\n",
    "scanNum = 1;\n",
    "ctOffset = planC{indexS.scan}(scanNum).scanInfo(1).CTOffset;\n",
    "scanArray = single(getScanArray(scanNum,planC)) - ctOffset;\n",
    "\n",
    "%Get structure labels & masks\n",
    "numStructs = length(planC{indexS.structures});\n",
    "structNameC = {planC{indexS.structures}.structureName};\n",
    "strNameC = {'Left_masseter', 'Right_masseter', 'Left_medial_pterygoid',...\n",
    "              'Right_medial_pterygoid', 'Larynx_DLabV3', 'Constrictor_muscle'};\n",
    "for strNum = 1:length(strNameC)\n",
    "    strx = strNameC{strNum};\n",
    "    idx = getMatchingIndex(strx,structNameC,'EXACT');\n",
    "    mask3M = getStrMask(idx, planC);\n",
    "    maskC{strNum} = mask3M;\n",
    "end"
   ]
  },
  {
   "cell_type": "markdown",
   "metadata": {
    "id": "qHcDwHTHZXDa"
   },
   "source": [
    "## Display auto-segmentation results using Python/Matplotlib"
   ]
  },
  {
   "cell_type": "code",
   "execution_count": 12,
   "metadata": {
    "id": "9_mlA0D8QYFf"
   },
   "outputs": [],
   "source": [
    "%octave_pull maskC strNameC scanArray"
   ]
  },
  {
   "cell_type": "code",
   "execution_count": 13,
   "metadata": {
    "id": "Ajqv7egbQaLu"
   },
   "outputs": [],
   "source": [
    "import matplotlib.pyplot as plt\n",
    "import numpy as np\n",
    "from IPython.display import clear_output\n",
    "import ipywidgets as widgets\n",
    "\n",
    "dx, dy = 1, 1\n",
    "\n",
    "x = np.arange(0, 255, dx)\n",
    "y = np.arange(0, 255, dy)\n",
    "extent = np.min(x), np.max(x), np.min(y), np.max(y)\n",
    "\n",
    "cmaps = [plt.cm.Oranges,plt.cm.Oranges,plt.cm.Blues,plt.cm.Blues, \\\n",
    "             plt.cm.Purples,plt.cm.Greens]\n",
    "\n",
    "clear_output(wait=True)\n",
    "\n",
    "def window_image(image, window_center, window_width):\n",
    "    img_min = window_center - window_width // 2\n",
    "    img_max = window_center + window_width // 2\n",
    "    window_image = image.copy()\n",
    "    window_image[window_image < img_min] = img_min\n",
    "    window_image[window_image > img_max] = img_max\n",
    "    \n",
    "    return window_image"
   ]
  },
  {
   "cell_type": "markdown",
   "metadata": {
    "id": "oC7m8vmLW2gO"
   },
   "source": [
    "**Example: display center slice**\n"
   ]
  },
  {
   "cell_type": "code",
   "execution_count": 14,
   "metadata": {
    "colab": {
     "base_uri": "https://localhost:8080/",
     "height": 606
    },
    "id": "LlLbxi9DXAjT",
    "outputId": "ba4e1b7b-2f63-4dae-9917-332097b0c686"
   },
   "outputs": [
    {
     "data": {
      "image/png": "[encoded data removed]",
      "text/plain": [
       "<Figure size 720x720 with 1 Axes>"
      ]
     },
     "metadata": {
      "needs_background": "light"
     },
     "output_type": "display_data"
    }
   ],
   "source": [
    "# Plot center slice\n",
    "scanSize = np.shape(scanArray)\n",
    "centerSlc = np.round(scanSize[2]/2).astype(int)\n",
    "\n",
    "window_center = 40\n",
    "window_width = 400\n",
    "fig, ax = plt.subplots(1,1,figsize=(10,10))\n",
    "\n",
    "windowed_img = window_image(scanArray[:,:,centerSlc],\n",
    "                                window_center,window_width)\n",
    "ax.imshow(windowed_img, cmap=plt.cm.gray, alpha=1,\n",
    "                    interpolation='nearest', extent=extent)\n",
    "ax.title.set_text('Auto-segmented structures on slice ' + str(centerSlc))\n",
    "fontdict = {'fontsize' : 100}\n",
    "\n",
    "for maskNum in range(0,6,1):\n",
    "        mask_cmap = cmaps[maskNum]\n",
    "        mask_cmap.set_under('k', alpha=0)\n",
    "        im2 = ax.imshow(maskC[0,maskNum][:,:,centerSlc-1], \n",
    "                        cmap=mask_cmap, alpha=.8, extent=extent,\n",
    "                        interpolation='none', clim=[0.5, 1])   "
   ]
  },
  {
   "cell_type": "markdown",
   "metadata": {
    "id": "WAytdRNXZiMu"
   },
   "source": [
    "**Interactive display**"
   ]
  },
  {
   "cell_type": "code",
   "execution_count": 15,
   "metadata": {
    "colab": {
     "base_uri": "https://localhost:8080/",
     "height": 641,
     "referenced_widgets": [
      "9f38957028704d1c9172c61366ada725",
      "23ff768adefc4e28a920ec9b114ff582",
      "08aa9819a37d4d82a17c798ec7db6ddb",
      "73c273469c944c63b34b7fcebe407e41",
      "d1e7d632046b4e8d8ca5aa01b0991f4e"
     ]
    },
    "id": "ktd8AwlUW_Ad",
    "outputId": "8c51f087-2b6a-4229-95d9-8154482e8fba"
   },
   "outputs": [
    {
     "data": {
      "application/vnd.jupyter.widget-view+json": {
       "model_id": "9f38957028704d1c9172c61366ada725",
       "version_major": 2,
       "version_minor": 0
      },
      "text/plain": [
       "IntSlider(value=30, max=79, min=1)"
      ]
     },
     "metadata": {},
     "output_type": "display_data"
    },
    {
     "data": {
      "application/vnd.jupyter.widget-view+json": {
       "model_id": "73c273469c944c63b34b7fcebe407e41",
       "version_major": 2,
       "version_minor": 0
      },
      "text/plain": [
       "Output()"
      ]
     },
     "metadata": {},
     "output_type": "display_data"
    }
   ],
   "source": [
    "def show_axial_slice(slcNum):\n",
    "    clear_output(wait=True)\n",
    "    print('Slice '+str(slcNum))\n",
    "    if 'fig' in locals():\n",
    "        fig.remove()\n",
    "    fig, ax = plt.subplots(1,1,figsize=(10,10))\n",
    "\n",
    "    window_center = 45\n",
    "    window_width = 125\n",
    "    windowed_img = window_image(scanArray[:,:,slcNum-1],\n",
    "                                window_center,window_width)\n",
    "    im1 = ax.imshow(windowed_img, cmap=plt.cm.gray, alpha=1,\n",
    "                    interpolation='nearest', extent=extent)\n",
    "    \n",
    "    cmaps = [plt.cm.Oranges,plt.cm.Oranges,plt.cm.Blues,plt.cm.Blues, \\\n",
    "             plt.cm.Purples,plt.cm.Greens]\n",
    "\n",
    "    for maskNum in range(0,6,1):\n",
    "        mask_cmap = cmaps[maskNum]\n",
    "        mask_cmap.set_under('k', alpha=0)\n",
    "        im2 = ax.imshow(maskC[0,maskNum][:,:,slcNum-1], \n",
    "                        cmap=mask_cmap, alpha=.8, extent=extent,\n",
    "                        interpolation='none', clim=[0.5, 1])        \n",
    "    plt.show()\n",
    "\n",
    "slice_slider = widgets.IntSlider(value=30,min=1,max=79,step=1)\n",
    "outputSlc = widgets.Output()\n",
    "\n",
    "display(slice_slider, outputSlc)\n",
    "\n",
    "\n",
    "def update_slice(change):\n",
    "    with outputSlc:\n",
    "        show_axial_slice(change['new'])\n",
    "\n",
    "slice_slider.observe(update_slice, names='value')"
   ]
  }
 ],
 "metadata": {
  "accelerator": "GPU",
  "colab": {
   "provenance": []
  },
  "kernelspec": {
   "display_name": "Python 3 (ipykernel)",
   "language": "python",
   "name": "python3"
  },
  "language_info": {
   "codemirror_mode": {
    "name": "ipython",
    "version": 3
   },
   "file_extension": ".py",
   "mimetype": "text/x-python",
   "name": "python",
   "nbconvert_exporter": "python",
   "pygments_lexer": "ipython3",
   "version": "3.9.15"
  },
  "widgets": {
   "application/vnd.jupyter.widget-state+json": {
    "08aa9819a37d4d82a17c798ec7db6ddb": {
     "model_module": "@jupyter-widgets/controls",
     "model_module_version": "1.5.0",
     "model_name": "SliderStyleModel",
     "state": {
      "_model_module": "@jupyter-widgets/controls",
      "_model_module_version": "1.5.0",
      "_model_name": "SliderStyleModel",
      "_view_count": null,
      "_view_module": "@jupyter-widgets/base",
      "_view_module_version": "1.2.0",
      "_view_name": "StyleView",
      "description_width": "",
      "handle_color": null
     }
    },
    "23ff768adefc4e28a920ec9b114ff582": {
     "model_module": "@jupyter-widgets/base",
     "model_module_version": "1.2.0",
     "model_name": "LayoutModel",
     "state": {
      "_model_module": "@jupyter-widgets/base",
      "_model_module_version": "1.2.0",
      "_model_name": "LayoutModel",
      "_view_count": null,
      "_view_module": "@jupyter-widgets/base",
      "_view_module_version": "1.2.0",
      "_view_name": "LayoutView",
      "align_content": null,
      "align_items": null,
      "align_self": null,
      "border": null,
      "bottom": null,
      "display": null,
      "flex": null,
      "flex_flow": null,
      "grid_area": null,
      "grid_auto_columns": null,
      "grid_auto_flow": null,
      "grid_auto_rows": null,
      "grid_column": null,
      "grid_gap": null,
      "grid_row": null,
      "grid_template_areas": null,
      "grid_template_columns": null,
      "grid_template_rows": null,
      "height": null,
      "justify_content": null,
      "justify_items": null,
      "left": null,
      "margin": null,
      "max_height": null,
      "max_width": null,
      "min_height": null,
      "min_width": null,
      "object_fit": null,
      "object_position": null,
      "order": null,
      "overflow": null,
      "overflow_x": null,
      "overflow_y": null,
      "padding": null,
      "right": null,
      "top": null,
      "visibility": null,
      "width": null
     }
    },
    "73c273469c944c63b34b7fcebe407e41": {
     "model_module": "@jupyter-widgets/output",
     "model_module_version": "1.0.0",
     "model_name": "OutputModel",
     "state": {
      "_dom_classes": [],
      "_model_module": "@jupyter-widgets/output",
      "_model_module_version": "1.0.0",
      "_model_name": "OutputModel",
      "_view_count": null,
      "_view_module": "@jupyter-widgets/output",
      "_view_module_version": "1.0.0",
      "_view_name": "OutputView",
      "layout": "IPY_MODEL_d1e7d632046b4e8d8ca5aa01b0991f4e",
      "msg_id": "",
      "outputs": [
       {
        "name": "stdout",
        "output_type": "stream",
        "text": [
         "Slice 38\n"
        ]
       },
       {
        "data": {
         "image/png": "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\n",
         "text/plain": "<Figure size 720x720 with 1 Axes>"
        },
        "metadata": {
         "needs_background": "light"
        },
        "output_type": "display_data"
       }
      ]
     }
    },
    "9f38957028704d1c9172c61366ada725": {
     "model_module": "@jupyter-widgets/controls",
     "model_module_version": "1.5.0",
     "model_name": "IntSliderModel",
     "state": {
      "_dom_classes": [],
      "_model_module": "@jupyter-widgets/controls",
      "_model_module_version": "1.5.0",
      "_model_name": "IntSliderModel",
      "_view_count": null,
      "_view_module": "@jupyter-widgets/controls",
      "_view_module_version": "1.5.0",
      "_view_name": "IntSliderView",
      "continuous_update": true,
      "description": "",
      "description_tooltip": null,
      "disabled": false,
      "layout": "IPY_MODEL_23ff768adefc4e28a920ec9b114ff582",
      "max": 79,
      "min": 1,
      "orientation": "horizontal",
      "readout": true,
      "readout_format": "d",
      "step": 1,
      "style": "IPY_MODEL_08aa9819a37d4d82a17c798ec7db6ddb",
      "value": 38
     }
    },
    "d1e7d632046b4e8d8ca5aa01b0991f4e": {
     "model_module": "@jupyter-widgets/base",
     "model_module_version": "1.2.0",
     "model_name": "LayoutModel",
     "state": {
      "_model_module": "@jupyter-widgets/base",
      "_model_module_version": "1.2.0",
      "_model_name": "LayoutModel",
      "_view_count": null,
      "_view_module": "@jupyter-widgets/base",
      "_view_module_version": "1.2.0",
      "_view_name": "LayoutView",
      "align_content": null,
      "align_items": null,
      "align_self": null,
      "border": null,
      "bottom": null,
      "display": null,
      "flex": null,
      "flex_flow": null,
      "grid_area": null,
      "grid_auto_columns": null,
      "grid_auto_flow": null,
      "grid_auto_rows": null,
      "grid_column": null,
      "grid_gap": null,
      "grid_row": null,
      "grid_template_areas": null,
      "grid_template_columns": null,
      "grid_template_rows": null,
      "height": null,
      "justify_content": null,
      "justify_items": null,
      "left": null,
      "margin": null,
      "max_height": null,
      "max_width": null,
      "min_height": null,
      "min_width": null,
      "object_fit": null,
      "object_position": null,
      "order": null,
      "overflow": null,
      "overflow_x": null,
      "overflow_y": null,
      "padding": null,
      "right": null,
      "top": null,
      "visibility": null,
      "width": null
     }
    }
   }
  }
 },
 "nbformat": 4,
 "nbformat_minor": 4
}
